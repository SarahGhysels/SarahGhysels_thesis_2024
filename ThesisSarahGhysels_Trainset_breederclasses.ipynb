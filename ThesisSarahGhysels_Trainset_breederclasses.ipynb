{
  "nbformat": 4,
  "nbformat_minor": 0,
  "metadata": {
    "colab": {
      "provenance": [],
      "toc_visible": true,
      "authorship_tag": "ABX9TyNMPIhQrVHyqu7aT2XYwhTr",
      "include_colab_link": true
    },
    "kernelspec": {
      "name": "python3",
      "display_name": "Python 3"
    },
    "language_info": {
      "name": "python"
    }
  },
  "cells": [
    {
      "cell_type": "markdown",
      "metadata": {
        "id": "view-in-github",
        "colab_type": "text"
      },
      "source": [
        "<a href=\"https://colab.research.google.com/github/SarahGhysels/SarahGhysels_thesis_2024/blob/Thesis/ThesisSarahGhysels_Trainset_breederclasses.ipynb\" target=\"_parent\"><img src=\"https://colab.research.google.com/assets/colab-badge.svg\" alt=\"Open In Colab\"/></a>"
      ]
    },
    {
      "cell_type": "markdown",
      "source": [
        "# Dividing Train set in breeder classes"
      ],
      "metadata": {
        "id": "F3aq4K1alRvM"
      }
    },
    {
      "cell_type": "markdown",
      "source": [
        "The Train set created in 'ThesisSarahGhysels_TrainTestSpit_threshold' is divided into two classes: Keep (DMY > threshold) and Discard (DMY < threshold). However, for the classification models, it will be easier if the train-validation set split can be stratified according to the breeder classes instead of the threshold classes. Therefore the training set is rearranged into the three breeding classes."
      ],
      "metadata": {
        "id": "EHhhKnigTkik"
      }
    },
    {
      "cell_type": "markdown",
      "source": [
        "## Importing functions"
      ],
      "metadata": {
        "id": "Q_9ZYQyTZnnb"
      }
    },
    {
      "cell_type": "code",
      "execution_count": null,
      "metadata": {
        "id": "o2gTa6nVlC5g"
      },
      "outputs": [],
      "source": [
        "import os\n",
        "import shutil\n",
        "import pandas as pd\n",
        "import re\n",
        "import numpy as np"
      ]
    },
    {
      "cell_type": "markdown",
      "source": [
        "## Reading in data"
      ],
      "metadata": {
        "id": "_foBIetFZp1_"
      }
    },
    {
      "cell_type": "code",
      "source": [
        "#Linking google drive\n",
        "from google.colab import drive\n",
        "drive.mount('/content/drive',force_remount=True)"
      ],
      "metadata": {
        "colab": {
          "base_uri": "https://localhost:8080/"
        },
        "id": "F67fZBzblY4W",
        "outputId": "a117da6c-3959-4c87-eba5-d36aeee6c1b5"
      },
      "execution_count": null,
      "outputs": [
        {
          "output_type": "stream",
          "name": "stdout",
          "text": [
            "Mounted at /content/drive\n"
          ]
        }
      ]
    },
    {
      "cell_type": "code",
      "source": [
        "classesthres_directory = '/content/drive/MyDrive/Sarah_Ghysels_Thesis/Datamodel/Train' #NewClips\n",
        "classesbreeder_directory ='/content/drive/MyDrive/Sarah_Ghysels_Thesis/Datamodel/TrainBreederClasses'#NewClips\n",
        "Dataset_multigras= pd.read_csv(\"/content/drive/MyDrive/Sarah_Ghysels_Thesis/Datamodel/Multigras_data.csv\", sep=';')\n",
        "Score = Dataset_multigras['Score MG']\n",
        "\n",
        "if not os.path.exists(classesbreeder_directory):os.makedirs(classesbreeder_directory)\n",
        "class1Dir = os.path.join(classesbreeder_directory, 'Class 1')\n",
        "if not os.path.exists(class1Dir):os.makedirs(class1Dir)\n",
        "class2Dir = os.path.join(classesbreeder_directory, 'Class 2')\n",
        "if not os.path.exists(class2Dir):os.makedirs(class2Dir)\n",
        "class3Dir = os.path.join(classesbreeder_directory, 'Class 3')\n",
        "if not os.path.exists(class3Dir):os.makedirs(class3Dir)"
      ],
      "metadata": {
        "id": "qmM_yY7_lau_"
      },
      "execution_count": null,
      "outputs": []
    },
    {
      "cell_type": "markdown",
      "source": [
        "## Dividing images into breeder classes"
      ],
      "metadata": {
        "id": "KmQGfzKJZ62p"
      }
    },
    {
      "cell_type": "code",
      "source": [
        "#Matching images with classes\n",
        "\n",
        "#read in the labels\n",
        "labels = os.listdir(classesthres_directory)\n",
        "# sort the training labesl\n",
        "labels.sort()\n",
        "\n",
        "for name in labels:\n",
        "  dir = os.path.join(classesthres_directory,name)\n",
        "  for file in os.listdir(dir):\n",
        "    #get y value that corresponds with this image\n",
        "    RowCol_string=re.findall(r'BLOK\\d+R\\d+P\\d+',file)\n",
        "    BlokRowCol=re.findall(r'\\d+', RowCol_string[0])\n",
        "    Blok=int(BlokRowCol[0])\n",
        "    Row=int(BlokRowCol[1])\n",
        "    Col=int(BlokRowCol[2])\n",
        "    index=((Blok-1)*44*32+(Row-1)*32 + Col)-1\n",
        "    try:Breeder_score= np.float32(Score[index])\n",
        "    except ValueError:Breeder_score=-1\n",
        "    if Breeder_score>= 4:\n",
        "      destination_path = os.path.join(classesbreeder_directory, 'Class 1', file)\n",
        "      source_path = os.path.join(dir, file)\n",
        "      shutil.copy(source_path, destination_path)\n",
        "    elif Breeder_score<=2 :\n",
        "      destination_path = os.path.join(classesbreeder_directory, 'Class 3', file)\n",
        "      source_path = os.path.join(dir, file)\n",
        "      shutil.copy(source_path, destination_path)\n",
        "    else:\n",
        "      destination_path = os.path.join(classesbreeder_directory, 'Class 2', file)\n",
        "      source_path = os.path.join(dir, file)\n",
        "      shutil.copy(source_path, destination_path)"
      ],
      "metadata": {
        "id": "cuXRr-CClf9u"
      },
      "execution_count": null,
      "outputs": []
    },
    {
      "cell_type": "code",
      "source": [
        "#Checking folders\n",
        "lst_keep = os.listdir(class1Dir)\n",
        "number_files = len(lst_keep)\n",
        "print(number_files)\n",
        "lst_discard = os.listdir(class2Dir)\n",
        "number_files = len(lst_discard)\n",
        "print(number_files)\n",
        "lst_discard = os.listdir(class3Dir)\n",
        "number_files = len(lst_discard)\n",
        "print(number_files)"
      ],
      "metadata": {
        "colab": {
          "base_uri": "https://localhost:8080/"
        },
        "id": "dtoi4k1Poyzw",
        "outputId": "763735e5-85a6-4e07-b814-e6a40268997a"
      },
      "execution_count": null,
      "outputs": [
        {
          "output_type": "stream",
          "name": "stdout",
          "text": [
            "326\n",
            "1108\n",
            "2366\n"
          ]
        }
      ]
    }
  ]
}