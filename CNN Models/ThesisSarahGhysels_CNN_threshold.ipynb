{
  "cells": [
    {
      "cell_type": "markdown",
      "metadata": {
        "id": "view-in-github",
        "colab_type": "text"
      },
      "source": [
        "<a href=\"https://colab.research.google.com/github/SarahGhysels/SarahGhysels_thesis_2024/blob/Thesis/ThesisSarahGhysels_CNN_threshold.ipynb\" target=\"_parent\"><img src=\"https://colab.research.google.com/assets/colab-badge.svg\" alt=\"Open In Colab\"/></a>"
      ]
    },
    {
      "cell_type": "markdown",
      "metadata": {
        "id": "WwfykhnDXFAr"
      },
      "source": [
        "#Convolutional Neural Network"
      ]
    },
    {
      "cell_type": "markdown",
      "metadata": {
        "id": "EnEJu3XfXI-7"
      },
      "source": [
        "## Preparation"
      ]
    },
    {
      "cell_type": "markdown",
      "metadata": {
        "id": "Ul3y0cy_XOEi"
      },
      "source": [
        "### Installing files and importing functions"
      ]
    },
    {
      "cell_type": "code",
      "execution_count": null,
      "metadata": {
        "id": "70LKy-XdW8Oq"
      },
      "outputs": [],
      "source": [
        "#installing necessary files\n",
        "%pip install split-folders tqdm\n",
        "%pip install Augmentor"
      ]
    },
    {
      "cell_type": "code",
      "execution_count": null,
      "metadata": {
        "colab": {
          "base_uri": "https://localhost:8080/"
        },
        "id": "oEjk9zYgXYT6",
        "outputId": "34f4aa48-1164-4095-a117-9a79e428285e"
      },
      "outputs": [
        {
          "output_type": "stream",
          "name": "stdout",
          "text": [
            "Mounted at /content/drive\n"
          ]
        }
      ],
      "source": [
        "#Linking google drive\n",
        "from google.colab import drive\n",
        "drive.mount('/content/drive',force_remount=True)"
      ]
    },
    {
      "cell_type": "code",
      "execution_count": null,
      "metadata": {
        "id": "NnQFBkOGXdJ-"
      },
      "outputs": [],
      "source": [
        "#Importing necessary functions\n",
        "import os\n",
        "import matplotlib.pyplot as plt\n",
        "import torch\n",
        "import numpy as np\n",
        "from torch import optim\n",
        "from torchvision import datasets, models\n",
        "from collections import OrderedDict\n",
        "import Augmentor\n",
        "import torch.nn as nn\n",
        "import torchvision.transforms as transforms\n",
        "from google.colab import files\n",
        "import pandas as pd\n",
        "import random\n",
        "import shutil\n",
        "from sklearn import metrics\n",
        "import re\n",
        "from torch.utils.data import Dataset, DataLoader, Subset\n",
        "from torchvision.models import efficientnet_v2_s, EfficientNet_V2_S_Weights, resnet50, ResNet50_Weights, densenet161, DenseNet161_Weights, vgg16, VGG16_Weights\n",
        "import cv2\n",
        "import splitfolders\n",
        "import random"
      ]
    },
    {
      "cell_type": "markdown",
      "metadata": {
        "id": "nmSckEUyXvJ8"
      },
      "source": [
        "### Defining functions"
      ]
    },
    {
      "cell_type": "markdown",
      "metadata": {
        "id": "4_ApZU7YX36D"
      },
      "source": [
        "#### Dataset and dataloader"
      ]
    },
    {
      "cell_type": "code",
      "execution_count": null,
      "metadata": {
        "id": "Tk1UtT2cgqOE"
      },
      "outputs": [],
      "source": [
        "#Create PyTorch dataset\n",
        "class imagedataset(Dataset):\n",
        "    def __init__(self, y_values, dir_image,id_image, transform=None):\n",
        "        # csv_file (string): Path to the csv file with annotations, root_dir (string): Directory with all the images\n",
        "        self.DMY_dataframe = y_values\n",
        "        self.dir_image = dir_image\n",
        "        self.transform = transform\n",
        "        self.id_image = id_image\n",
        "        self.to_tensor = transforms.ToTensor()\n",
        "\n",
        "    def __len__(self):\n",
        "      return len(self.DMY_dataframe)\n",
        "\n",
        "    def __getitem__(self, idx):\n",
        "        image = cv2.imread(self.dir_image[idx])\n",
        "        image = self.to_tensor(image)\n",
        "        DMYield = self.DMY_dataframe[idx]\n",
        "        id_image = self.id_image[idx]\n",
        "\n",
        "        if self.transform:\n",
        "            image = self.transform(image)\n",
        "\n",
        "        return image, DMYield, id_image"
      ]
    },
    {
      "cell_type": "code",
      "execution_count": null,
      "metadata": {
        "id": "xNctd7HNXy7i"
      },
      "outputs": [],
      "source": [
        "def data_loader(train_dataset, val_dataset,test_dataset,batch_size = 256, workers = 1, pin_memory = True): #test_dataset\n",
        "\n",
        "  train_loader = torch.utils.data.DataLoader(\n",
        "      train_dataset,\n",
        "      batch_size = batch_size,\n",
        "      shuffle = True,\n",
        "      num_workers = workers,\n",
        "      pin_memory = pin_memory,\n",
        "      sampler = None\n",
        "  )\n",
        "\n",
        "  val_loader = torch.utils.data.DataLoader(\n",
        "      val_dataset,\n",
        "      batch_size = batch_size,\n",
        "      shuffle = False,\n",
        "      num_workers = workers,\n",
        "      pin_memory = pin_memory\n",
        "  )\n",
        "\n",
        "  test_loader = torch.utils.data.DataLoader(\n",
        "      test_dataset,\n",
        "      batch_size = batch_size,\n",
        "      shuffle = False,\n",
        "      num_workers = workers,\n",
        "      pin_memory = pin_memory\n",
        "  )\n",
        "\n",
        "  return train_loader, val_loader, test_loader"
      ]
    },
    {
      "cell_type": "markdown",
      "metadata": {
        "id": "zTXTk3dzYR-h"
      },
      "source": [
        "#### Oversampling and data augmentation"
      ]
    },
    {
      "cell_type": "code",
      "execution_count": null,
      "metadata": {
        "id": "ogA-3CVnYTuO"
      },
      "outputs": [],
      "source": [
        "#Function to generate extra data by oversampling with Augmentor (creates new images by geometric transformations of existing ones)\n",
        "def oversample_func(split_directory, folders, target_folders, requiredNbrOfImages):\n",
        "    for i in range(len(folders)):\n",
        "        path, dirs, files = next(os.walk(folders[i]))\n",
        "        nbrOfImages = len(files)\n",
        "        nbrOfImagesNeeded = requiredNbrOfImages - nbrOfImages\n",
        "        seed = random.randint(0, 1000)\n",
        "\n",
        "        if nbrOfImagesNeeded > 0:\n",
        "            tfd = target_folders[i]\n",
        "            print(\"saving in \" + tfd)\n",
        "            p = Augmentor.Pipeline(source_directory=folders[i], output_directory=tfd)\n",
        "            p.flip_left_right(probability=0.5)\n",
        "            p.rotate(probability=0.7, max_left_rotation=15, max_right_rotation=15)\n",
        "            p.flip_left_right(probability=0.5)\n",
        "            p.sample(nbrOfImagesNeeded, multi_threaded=False)"
      ]
    },
    {
      "cell_type": "markdown",
      "metadata": {
        "id": "etq128-qX9TE"
      },
      "source": [
        "#### Model"
      ]
    },
    {
      "cell_type": "markdown",
      "metadata": {
        "id": "MIrvJb5yjp4G"
      },
      "source": [
        "##### Pre-trained models"
      ]
    },
    {
      "cell_type": "code",
      "execution_count": null,
      "metadata": {
        "id": "gtGEKpxJ7k21"
      },
      "outputs": [],
      "source": [
        "# #looking at models\n",
        "# weights = models.DenseNet161_Weights.DEFAULT\n",
        "# model = models.densenet161(weights=weights)\n",
        "# print(dict(model.named_children()).keys())\n",
        "# print(model.classifier)\n",
        "# weights2 = models.VGG16_Weights.DEFAULT\n",
        "# model2 = models.vgg16(weights=weights2)\n",
        "# print(dict(model2.named_children()).keys())\n",
        "# print(model2.classifier)"
      ]
    },
    {
      "cell_type": "code",
      "execution_count": null,
      "metadata": {
        "id": "8N6BSlwzX-ch"
      },
      "outputs": [],
      "source": [
        "# Functie geeft gewenste CNN model terug\n",
        "def make_model(structure, preTrained):\n",
        "  output_size = 1\n",
        "  if structure==\"densenet161\":\n",
        "      weights = models.DenseNet161_Weights.DEFAULT\n",
        "      model = models.densenet161(weights=weights)\n",
        "      input_size = 2208\n",
        "      regressor =  nn.Sequential(OrderedDict([\n",
        "                            ('dropout',nn.Dropout(0.5)),\n",
        "                            ('fc1', nn.Linear(2208, 1104)),\n",
        "                            ('relu1', nn.ReLU()),\n",
        "                            ('fc2', nn.Linear(1104, 700)),\n",
        "                            ('relu2', nn.ReLU()),\n",
        "                            ('output', nn.Linear(700, output_size))]))\n",
        "\n",
        "      model.classifier = regressor\n",
        "  elif structure==\"vgg16\":\n",
        "      weights = models.VGG16_Weights.DEFAULT\n",
        "      model = models.vgg16(weights=weights)\n",
        "      input_size = 25088\n",
        "      regressor =  nn.Sequential(OrderedDict([\n",
        "                            ('dropout',nn.Dropout(0.5)),\n",
        "                            ('fc1', nn.Linear(25088, 1104)),\n",
        "                            ('relu1', nn.ReLU()),\n",
        "                            ('fc2', nn.Linear(1104, 700)),\n",
        "                            ('relu2', nn.ReLU()),\n",
        "                            ('output', nn.Linear(700, output_size))]))\n",
        "\n",
        "      model.classifier = regressor\n",
        "  elif structure==\"EfficientNet\":\n",
        "      weights = EfficientNet_V2_S_Weights.DEFAULT\n",
        "      model = efficientnet_v2_s(weights = weights)\n",
        "      input_size =1280\n",
        "      regressor =  nn.Sequential(OrderedDict([\n",
        "                            ('dropout',nn.Dropout(0.5)),\n",
        "                            ('fc1', nn.Linear(1280, 1104)),\n",
        "                            ('relu1', nn.ReLU()),\n",
        "                            ('fc2', nn.Linear(1104, 700)),\n",
        "                            ('relu2', nn.ReLU()),\n",
        "                            ('output', nn.Linear(700, output_size))]))\n",
        "      model.classifier = regressor\n",
        "  elif structure==\"ResNet\":\n",
        "      weights = ResNet50_Weights.DEFAULT\n",
        "      model = resnet50(weights = weights)\n",
        "      input_size =2048\n",
        "      regressor =  nn.Sequential(OrderedDict([\n",
        "                            ('dropout',nn.Dropout(0.5)),\n",
        "                            ('fc1', nn.Linear(2048, 1104)),\n",
        "                            ('relu1', nn.ReLU()),\n",
        "                            ('fc2', nn.Linear(1104, 700)),\n",
        "                            ('relu2', nn.ReLU()),\n",
        "                            ('output', nn.Linear(700, output_size))]))\n",
        "\n",
        "      model.fc = regressor\n",
        "  else:print('wrong name model')\n",
        "  if preTrained ==True:\n",
        "    for param in model.parameters():\n",
        "        param.requires_grad = False #The gradients in the model are frozen\n",
        "    if structure==\"ResNet\" :\n",
        "      for paramNew2 in model.fc.parameters(): paramNew2.requires_grad = True\n",
        "    else :\n",
        "      for paramNew in model.classifier.parameters():\n",
        "        paramNew.requires_grad = True\n",
        "  else:\n",
        "    for param in model.parameters(): param.requires_grad=True\n",
        "  return model"
      ]
    },
    {
      "cell_type": "code",
      "execution_count": null,
      "metadata": {
        "id": "youopcazQVwK"
      },
      "outputs": [],
      "source": [
        "# #checking which parameters are frozen\n",
        "# model=make_model(\"vgg16\", preTrained=True)\n",
        "# for name, param in model.named_parameters():\n",
        "#     print('Name: ', name, ' Requires_Grad: ', param.requires_grad)\n",
        "# #correct"
      ]
    },
    {
      "cell_type": "markdown",
      "metadata": {
        "id": "4Bfd_69TZDBq"
      },
      "source": [
        "## Training the model"
      ]
    },
    {
      "cell_type": "markdown",
      "metadata": {
        "id": "bnBWJQKab3UE"
      },
      "source": [
        "### Data loading and preparation"
      ]
    },
    {
      "cell_type": "markdown",
      "metadata": {
        "id": "MZVD9cJrgnvw"
      },
      "source": [
        "#### Loading data (and oversampling)"
      ]
    },
    {
      "cell_type": "code",
      "execution_count": null,
      "metadata": {
        "colab": {
          "base_uri": "https://localhost:8080/"
        },
        "id": "IIyqFu_YVOTk",
        "outputId": "b701a653-8c71-4adf-efdf-852c51355ded"
      },
      "outputs": [
        {
          "output_type": "stream",
          "name": "stdout",
          "text": [
            "715\n"
          ]
        },
        {
          "output_type": "stream",
          "name": "stderr",
          "text": [
            "Copying files: 3772 files [02:16, 27.60 files/s]\n"
          ]
        }
      ],
      "source": [
        "# define working directories\n",
        "working_directory = '/content/drive/MyDrive/Sarah_Ghysels_Thesis/DatamodelNewClips/Train'#NewClips\n",
        "split_directory = '/content/drive/MyDrive/Sarah_Ghysels_Thesis/DatamodelNewClips/Split/'\n",
        "model_save_location = '/content/drive/MyDrive/Sarah_Ghysels_Thesis/OutputCNN/'\n",
        "test_directory = '/content/drive/MyDrive/Sarah_Ghysels_Thesis/DatamodelNewClips/Test'\n",
        "\n",
        "#split folder verwijderen\n",
        "if os.path.isdir(split_directory): shutil.rmtree(split_directory)\n",
        "\n",
        "splitfolders.ratio(working_directory, output=split_directory, seed=rand, ratio=(0.9, 0.1), group_prefix=None, move=False) #test: 0.9-0.1 and seed = rand (before 0.8-0.2 and one of the three seeds)\n",
        "\n",
        "\n",
        "#creating directories\n",
        "train_path = split_directory + 'train/'\n",
        "if not os.path.exists(train_path):os.makedirs(train_path)\n",
        "val_path = split_directory + 'val/'\n",
        "if not os.path.exists(val_path):os.makedirs(val_path)"
      ]
    },
    {
      "cell_type": "code",
      "source": [
        "#Test data loading\n",
        "test_directory = '/content/drive/MyDrive/Sarah_Ghysels_Thesis/DatamodelNewClips/Test'"
      ],
      "metadata": {
        "id": "MDF_RK9202P2"
      },
      "execution_count": null,
      "outputs": []
    },
    {
      "cell_type": "code",
      "execution_count": null,
      "metadata": {
        "colab": {
          "base_uri": "https://localhost:8080/"
        },
        "id": "Y-OIME_UVR79",
        "outputId": "359c8785-31c6-4604-ffe5-8c913ff9a663"
      },
      "outputs": [
        {
          "name": "stdout",
          "output_type": "stream",
          "text": [
            "saving in /content/drive/MyDrive/Sarah_Ghysels_Thesis/DatamodelNewClips/Split/train/Keep\n",
            "Initialised with 297 image(s) found.\n",
            "Output directory set to /content/drive/MyDrive/Sarah_Ghysels_Thesis/DatamodelNewClips/Split/train/Keep."
          ]
        },
        {
          "name": "stderr",
          "output_type": "stream",
          "text": [
            "Processing BLOK1R16P23.png: 100%|██████████| 1063/1063 [00:09<00:00, 110.50 Samples/s]\n"
          ]
        }
      ],
      "source": [
        "# #Oversample\n",
        "# #there should be 2720 Discard images in the train set and 297 Keep\n",
        "# requiredNbrOfImages=0\n",
        "# target_dir=train_path\n",
        "# if not os.path.exists(target_dir):os.makedirs(target_dir)\n",
        "# folders = [os.path.join(train_path, folder) for folder in next(os.walk(train_path))[1]]\n",
        "# target_folders = [os.path.join(target_dir, folder) for folder in next(os.walk(train_path))[1]]\n",
        "# oversample_func(split_directory,  folders, target_folders, requiredNbrOfImages)"
      ]
    },
    {
      "cell_type": "code",
      "execution_count": null,
      "metadata": {
        "id": "AzhzVLMvesPr"
      },
      "outputs": [],
      "source": [
        "#reading in the DMY data\n",
        "Dataset_multigras= pd.read_csv(\"/content/drive/MyDrive/Sarah_Ghysels_Thesis/Datamodel/Multigras_data.csv\", sep=';')\n",
        "DMY = Dataset_multigras['DMY (kg/ha)']"
      ]
    },
    {
      "cell_type": "markdown",
      "metadata": {
        "id": "Mrr82V6j9UtA"
      },
      "source": [
        "#### Creating threshold"
      ]
    },
    {
      "cell_type": "code",
      "execution_count": null,
      "metadata": {
        "colab": {
          "base_uri": "https://localhost:8080/"
        },
        "id": "3zkLToN2zHV6",
        "outputId": "ed11134d-8a4f-40dc-c425-096b61ad868e"
      },
      "outputs": [
        {
          "output_type": "stream",
          "name": "stdout",
          "text": [
            "6811\n"
          ]
        }
      ],
      "source": [
        "#determining threshold\n",
        "#First transforming all values to integers and transforming error to negative number other errors are denoted with\n",
        "DMY_int=[]\n",
        "for i in range(0,len(DMY)):\n",
        "   try: DMY_int.append(int(DMY[i]))\n",
        "   except ValueError: DMY_int.append(-544)\n",
        "\n",
        "DMY_int.sort()\n",
        "Top10percent = round(9*4224/10)\n",
        "threshold = DMY_int[Top10percent]\n",
        "print(threshold)"
      ]
    },
    {
      "cell_type": "markdown",
      "metadata": {
        "id": "wcphXWvLgkfc"
      },
      "source": [
        "#### Creating datasets"
      ]
    },
    {
      "cell_type": "code",
      "execution_count": null,
      "metadata": {
        "id": "FZy_8rrxfOvS"
      },
      "outputs": [],
      "source": [
        "#Matching images with DMY values\n",
        "\n",
        "#training data\n",
        "# read the training data labels\n",
        "train_labels = os.listdir(train_path)\n",
        "# sort the training labesl\n",
        "train_labels.sort()\n",
        "# empty list to hold feature vectors and labels\n",
        "dir_image_train = []\n",
        "id_image_train = []\n",
        "y_values_train = []\n",
        "\n",
        "# loop over the training data sub folder\n",
        "for training_name in train_labels:\n",
        "  # join the training data path and each class training folder\n",
        "  dir = os.path.join(train_path, training_name)\n",
        "  # loop over the images in each sub-folder\n",
        "  for file in os.listdir(dir):\n",
        "    #get y value that corresponds with this image\n",
        "    RowCol_string=re.findall(r'BLOK\\d+R\\d+P\\d+',file)\n",
        "    BlokRowCol=re.findall(r'\\d+', RowCol_string[0])\n",
        "    Blok=int(BlokRowCol[0])\n",
        "    Row=int(BlokRowCol[1])\n",
        "    Col=int(BlokRowCol[2])\n",
        "    index=((Blok-1)*44*32+(Row-1)*32 + Col)-1\n",
        "    try:y= np.float32(DMY[index])\n",
        "    except ValueError:y=-1\n",
        "    if y>=threshold: y = 1 #changed\n",
        "    elif y>-1 and y<threshold: y = 0\n",
        "\n",
        "    # update the list of labels and feature vectors\n",
        "    if y>-1: #changed\n",
        "      y_values_train.append(y)\n",
        "      image_dir = os.path.join(dir, file)\n",
        "      dir_image_train.append(image_dir)\n",
        "      id_image_train.append(file)\n",
        "\n",
        "#validation data\n",
        "# read the validation data labels\n",
        "val_labels = os.listdir(val_path)\n",
        "# sort the validation labels\n",
        "val_labels.sort()\n",
        "# empty list to hold feature vectors and labels\n",
        "dir_image_val = []\n",
        "id_image_val = []\n",
        "y_values_val = []\n",
        "# loop over the validation data sub folder\n",
        "for val_name in val_labels:\n",
        "  # join the validation data path and each class validation folder\n",
        "  dir = os.path.join(val_path, val_name)\n",
        "  # loop over the images in each sub-folder\n",
        "  for file in os.listdir(dir):\n",
        "    #get y value that corresponds with this image\n",
        "    RowCol_string=re.findall(r'BLOK\\d+R\\d+P\\d+',file)\n",
        "    BlokRowCol=re.findall(r'\\d+', RowCol_string[0])\n",
        "    Blok=int(BlokRowCol[0])\n",
        "    Row=int(BlokRowCol[1])\n",
        "    Col=int(BlokRowCol[2])\n",
        "    index=((Blok-1)*44*32+(Row-1)*32 + Col)-1\n",
        "    try:y= np.float32(DMY[index])\n",
        "    except ValueError:y=-1\n",
        "    if y>=threshold: y = 1 #changed\n",
        "    elif y>-1 and y<threshold: y = 0\n",
        "\n",
        "    # update the list of labels and feature vectors\n",
        "    if y>-1: #changed\n",
        "      y_values_val.append(y)\n",
        "      image_dir = os.path.join(dir, file)\n",
        "      dir_image_val.append(image_dir)\n",
        "      id_image_val.append(file)"
      ]
    },
    {
      "cell_type": "code",
      "source": [
        "#matching test images with DMY values\n",
        "#test data\n",
        "# read the test data labels\n",
        "test_labels = os.listdir(test_directory)\n",
        "# sort the test labels\n",
        "test_labels.sort()\n",
        "# empty list to hold feature vectors and labels\n",
        "dir_image_test = []\n",
        "id_image_test = []\n",
        "y_values_test = []\n",
        "# loop over the test data sub folder\n",
        "for test_name in test_labels:\n",
        "  # join the test data path and each class test folder\n",
        "  dir = os.path.join(test_directory, test_name)\n",
        "  # loop over the images in each sub-folder\n",
        "  for file in os.listdir(dir):\n",
        "    #get y value that corresponds with this image\n",
        "    RowCol_string=re.findall(r'BLOK\\d+R\\d+P\\d+',file)\n",
        "    BlokRowCol=re.findall(r'\\d+', RowCol_string[0])\n",
        "    Blok=int(BlokRowCol[0])\n",
        "    Row=int(BlokRowCol[1])\n",
        "    Col=int(BlokRowCol[2])\n",
        "    index=((Blok-1)*44*32+(Row-1)*32 + Col)-1\n",
        "    try:y= np.float32(DMY[index])\n",
        "    except ValueError:y=-1\n",
        "    if y>=threshold: y = 1\n",
        "    elif y>-1 and y<threshold: y = 0\n",
        "\n",
        "    # update the list of labels and feature vectors\n",
        "    if y>-1:\n",
        "      y_values_test.append(y)\n",
        "      image_dir = os.path.join(dir, file)\n",
        "      dir_image_test.append(image_dir)\n",
        "      id_image_test.append(file)"
      ],
      "metadata": {
        "id": "DTcaKq_91S20"
      },
      "execution_count": null,
      "outputs": []
    },
    {
      "cell_type": "markdown",
      "metadata": {
        "id": "PGlB6xbrM_N0"
      },
      "source": [
        "#### Creating positive weights for use in model"
      ]
    },
    {
      "cell_type": "code",
      "execution_count": null,
      "metadata": {
        "colab": {
          "base_uri": "https://localhost:8080/"
        },
        "id": "sGdvNqnz7LyO",
        "outputId": "b007a0d6-fdd5-4e14-834a-51a6b89e80ae"
      },
      "outputs": [
        {
          "output_type": "stream",
          "name": "stdout",
          "text": [
            "8.574850299401197\n"
          ]
        }
      ],
      "source": [
        "positive_weights= (y_values_train.count(0))/(y_values_train.count(1))\n",
        "print(positive_weights)\n",
        "positive_weights = torch.tensor(positive_weights)"
      ]
    },
    {
      "cell_type": "markdown",
      "metadata": {
        "id": "kcWnbse2bzaP"
      },
      "source": [
        "### Hyperparameters"
      ]
    },
    {
      "cell_type": "code",
      "execution_count": null,
      "metadata": {
        "id": "91s1w1ShZKMY"
      },
      "outputs": [],
      "source": [
        "# Here all hyperparameters are defined\n",
        "Batch_size = 32 #32, 64\n",
        "Learning_rate = 0.0001\n",
        "Num_workers = 0\n",
        "ARCH = 'densenet161' #'vgg16', 'densenet161', 'own_model', \"EfficientNet\", \"ResNet\""
      ]
    },
    {
      "cell_type": "code",
      "execution_count": null,
      "metadata": {
        "colab": {
          "base_uri": "https://localhost:8080/"
        },
        "id": "EcZGZrC3VV1F",
        "outputId": "5492de68-75e3-4f80-cbdf-dc1eca9d3d17"
      },
      "outputs": [
        {
          "output_type": "stream",
          "name": "stdout",
          "text": [
            "Training Set: 3198\n",
            "Validation Set: 359\n",
            "Test Set: 393\n"
          ]
        }
      ],
      "source": [
        "# Transform the data to the specific input needed for the pretrained model\n",
        "if ARCH == 'densenet161':\n",
        "    transformer = models.DenseNet161_Weights.IMAGENET1K_V1.transforms(antialias=True)\n",
        "elif ARCH == 'vgg16':\n",
        "    transformer = models.VGG16_Weights.IMAGENET1K_FEATURES.transforms(antialias = True)\n",
        "elif ARCH == 'EfficientNet':\n",
        "    transformer = models.EfficientNet_V2_S_Weights.DEFAULT.transforms(antialias=True)\n",
        "elif ARCH == 'ResNet':\n",
        "    transformer = models.ResNet50_Weights.DEFAULT.transforms(antialias = True)\n",
        "\n",
        "dataset_train = imagedataset(y_values_train, dir_image_train, id_image_train, transform = transformer)\n",
        "dataset_val = imagedataset(y_values_val, dir_image_val, id_image_val, transform = transformer)\n",
        "dataset_test = imagedataset(y_values_test, dir_image_test, id_image_test, transform = transformer)\n",
        "\n",
        "train_loader, val_loader, test_loader = data_loader(dataset_train, dataset_val,dataset_test, Batch_size, Num_workers, False)\n",
        "print(\"Training Set: \" + str(len(train_loader.dataset)))\n",
        "print(\"Validation Set: \" + str(len(val_loader.dataset)))\n",
        "print(\"Test Set: \" + str(len(test_loader.dataset)))"
      ]
    },
    {
      "cell_type": "markdown",
      "metadata": {
        "id": "8zPEok6Hb8yJ"
      },
      "source": [
        "### Running the model"
      ]
    },
    {
      "cell_type": "code",
      "execution_count": null,
      "metadata": {
        "id": "VGkyxizP6ZHY"
      },
      "outputs": [],
      "source": [
        "import warnings\n",
        "warnings.filterwarnings('ignore', 'y_pred contains classes not in y_true', )"
      ]
    },
    {
      "cell_type": "code",
      "execution_count": null,
      "metadata": {
        "colab": {
          "base_uri": "https://localhost:8080/",
          "height": 1000
        },
        "id": "ewQ7u-KOZS6M",
        "outputId": "8e08ff13-1286-4e3a-afc4-f915c786122c"
      },
      "outputs": [
        {
          "output_type": "stream",
          "name": "stderr",
          "text": [
            "/usr/local/lib/python3.10/dist-packages/torch/nn/modules/conv.py:456: UserWarning: Plan failed with a cudnnException: CUDNN_BACKEND_EXECUTION_PLAN_DESCRIPTOR: cudnnFinalize Descriptor Failed cudnn_status: CUDNN_STATUS_NOT_SUPPORTED (Triggered internally at ../aten/src/ATen/native/cudnn/Conv_v8.cpp:919.)\n",
            "  return F.conv2d(input, weight, bias, self.stride,\n"
          ]
        },
        {
          "output_type": "stream",
          "name": "stdout",
          "text": [
            "Epoch: 1/10... |  Train Loss 0.9105 |  Train Accuracy 0.7507 | Validation Loss 0.8475 |  Validation Accuracy 0.8248 | Recall 0.9737 | F2_score 0.6314\n",
            "Test Balanced Accuracy 0.7695 |\n",
            "Test F2 score 0.5692 |\n"
          ]
        },
        {
          "output_type": "display_data",
          "data": {
            "text/plain": [
              "<Figure size 640x480 with 2 Axes>"
            ],
            "image/png": "[encoded data removed]"
          },
          "metadata": {}
        },
        {
          "output_type": "stream",
          "name": "stdout",
          "text": [
            "Epoch: 2/10... |  Train Loss 0.6998 |  Train Accuracy 0.8391 | Validation Loss 0.7554 |  Validation Accuracy 0.8368 | Recall 0.8947 | F2_score 0.6615\n",
            "Test Balanced Accuracy 0.8098 |\n",
            "Test F2 score 0.6295 |\n"
          ]
        },
        {
          "output_type": "display_data",
          "data": {
            "text/plain": [
              "<Figure size 640x480 with 2 Axes>"
            ],
            "image/png": "[encoded data removed]"
          },
          "metadata": {}
        },
        {
          "output_type": "stream",
          "name": "stdout",
          "text": [
            "Epoch: 3/10... |  Train Loss 0.5880 |  Train Accuracy 0.8691 | Validation Loss 0.9205 |  Validation Accuracy 0.7750 | Recall 0.7368 | F2_score 0.5833\n",
            "Test Balanced Accuracy 0.7898 |\n",
            "Test F2 score 0.6061 |\n",
            "Epoch: 4/10... |  Train Loss 0.5179 |  Train Accuracy 0.8786 | Validation Loss 0.8469 |  Validation Accuracy 0.8266 | Recall 0.9211 | F2_score 0.6410\n",
            "Test Balanced Accuracy 0.7818 |\n",
            "Test F2 score 0.5863 |\n",
            "Epoch: 5/10... |  Train Loss 0.3987 |  Train Accuracy 0.9164 | Validation Loss 2.2919 |  Validation Accuracy 0.8014 | Recall 0.7368 | F2_score 0.6278\n",
            "Test Balanced Accuracy 0.7935 |\n",
            "Test F2 score 0.6151 |\n",
            "Epoch: 6/10... |  Train Loss 0.3979 |  Train Accuracy 0.9131 | Validation Loss 1.9221 |  Validation Accuracy 0.7798 | Recall 0.6842 | F2_score 0.5963\n",
            "Test Balanced Accuracy 0.8011 |\n",
            "Test F2 score 0.6360 |\n",
            "Epoch: 7/10... |  Train Loss 0.3778 |  Train Accuracy 0.9206 | Validation Loss 0.8029 |  Validation Accuracy 0.8196 | Recall 0.8947 | F2_score 0.6343\n",
            "Test Balanced Accuracy 0.7646 |\n",
            "Test F2 score 0.5703 |\n",
            "Epoch: 8/10... |  Train Loss 0.2482 |  Train Accuracy 0.9579 | Validation Loss 2.2089 |  Validation Accuracy 0.7767 | Recall 0.6842 | F2_score 0.5909\n",
            "Test Balanced Accuracy 0.7421 |\n",
            "Test F2 score 0.5388 |\n",
            "Epoch: 9/10... |  Train Loss 0.1717 |  Train Accuracy 0.9687 | Validation Loss 3.5908 |  Validation Accuracy 0.7596 | Recall 0.6842 | F2_score 0.5628\n",
            "Test Balanced Accuracy 0.7322 |\n",
            "Test F2 score 0.5243 |\n",
            "Epoch: 10/10... |  Train Loss 0.2592 |  Train Accuracy 0.9519 | Validation Loss 2.6809 |  Validation Accuracy 0.6879 | Recall 0.4474 | F2_score 0.4427\n",
            "Test Balanced Accuracy 0.7172 |\n",
            "Test F2 score 0.4953 |\n"
          ]
        }
      ],
      "source": [
        "model = make_model(ARCH, False) #True, False\n",
        "\n",
        "# Define optimizer and loss function\n",
        "criterion=nn.BCEWithLogitsLoss(pos_weight = positive_weights)\n",
        "optimizer = optim.Adam(model.parameters(), lr=Learning_rate) #model.classifier.parameters or model.parameters or model.fc.parameters\n",
        "model_param_dir = model_save_location +'parameters'\n",
        "model_param_dir_all = model_save_location +'all_parameters'\n",
        "\n",
        "epochs = 10\n",
        "if torch.cuda.is_available(): model.to('cuda')\n",
        "train_loss = []\n",
        "train_accuracy = []\n",
        "Val_accuracy = []\n",
        "Val_losses = []\n",
        "Best_val_accuracy =0\n",
        "Best_val_F2 = 0\n",
        "Best_param=None\n",
        "all_params = {}\n",
        "\n",
        "for e in range(epochs):\n",
        "    #train loop\n",
        "    model.train()\n",
        "    train_all_losses = []\n",
        "    train_all_accuracies = []\n",
        "\n",
        "    for batch in train_loader:\n",
        "        optimizer.zero_grad()\n",
        "        inputs, labels, id = batch\n",
        "        if torch.cuda.is_available(): inputs, labels = inputs.to('cuda'), labels.to('cuda')\n",
        "        labels = labels.unsqueeze(1)\n",
        "\n",
        "        # Forward pass\n",
        "        outputs = model(inputs)\n",
        "        labels = labels.float()\n",
        "        #loss\n",
        "        loss = criterion(outputs, labels)\n",
        "        #accuracy\n",
        "        outputs = outputs.cpu()\n",
        "        labels = labels.cpu().numpy()\n",
        "        outputs_np = outputs.detach().numpy()\n",
        "        outputs_sig = 1/(1 + np.exp(-outputs_np))\n",
        "        outputs_round = np.round(outputs_sig)\n",
        "        accuracy = metrics.balanced_accuracy_score(labels, outputs_round)\n",
        "        #backward pass\n",
        "        loss.backward()\n",
        "        optimizer.step()\n",
        "\n",
        "        train_all_losses.append(loss.item())\n",
        "        train_all_accuracies.append(accuracy.item())\n",
        "\n",
        "    #eval loop\n",
        "    model.eval()\n",
        "    Val_all_losses = []\n",
        "    Val_predictions = []\n",
        "    Val_labels = []\n",
        "    with torch.no_grad():\n",
        "        for val_batch in val_loader:\n",
        "            val_inputs, val_labels, val_id = val_batch\n",
        "            if torch.cuda.is_available(): val_inputs, val_labels = val_inputs.to('cuda'), val_labels.to('cuda')\n",
        "            val_labels = val_labels.unsqueeze(1)\n",
        "            val_outputs = model(val_inputs)\n",
        "            val_labels = val_labels.float()\n",
        "            #loss\n",
        "            val_loss = criterion(val_outputs, val_labels)\n",
        "            Val_all_losses.append(val_loss.item())\n",
        "            #accuracy\n",
        "            val_outputs = val_outputs.cpu()\n",
        "            val_labels = val_labels.cpu()\n",
        "            val_outputs_np = val_outputs.detach().numpy()\n",
        "            val_outputs_sig = 1/(1 + np.exp(-val_outputs_np))\n",
        "            val_outputs_round =np.round(val_outputs_sig)\n",
        "            val_outputs_tensor = torch.from_numpy(val_outputs_round)\n",
        "            Val_predictions.append(val_outputs_tensor)\n",
        "            Val_labels.append(val_labels)\n",
        "\n",
        "    #evaluation epoch\n",
        "    Val_predictions= torch.cat(Val_predictions)\n",
        "    Val_labels=torch.cat(Val_labels)\n",
        "    val_accuracy = metrics.balanced_accuracy_score(Val_labels, Val_predictions)\n",
        "    tn, fp, fn, tp = metrics.confusion_matrix(Val_labels, Val_predictions).ravel()\n",
        "    recall = tp/(tp+fn)\n",
        "    F2_score = metrics.fbeta_score(Val_labels, Val_predictions, beta=2)\n",
        "    Val_losses.append(np.mean(Val_all_losses))\n",
        "    train_loss.append(np.mean(train_all_losses))\n",
        "    train_accuracy.append(np.mean(train_all_accuracies))\n",
        "\n",
        "\n",
        "    print(\"Epoch: {}/{}... | \".format(e+1, epochs),\n",
        "    \"Train Loss {:.4f} | \".format(np.mean(train_all_losses)),\n",
        "    \"Train Accuracy {:.4f} |\".format(np.mean(train_all_accuracies)),\n",
        "    \"Validation Loss {:.4f} | \".format(np.mean(Val_all_losses)),\n",
        "    \"Validation Accuracy {:.4f} |\".format(val_accuracy),\n",
        "    \"Recall {:.4f} |\".format(recall),\n",
        "    \"F2_score {:.4f}\".format(F2_score))\n",
        "\n",
        "#### The test performance that is described in the thesis is chosen by taking the best epoch according to the validation set performance!!\n",
        "# If the best test set would have been used, it would not have been independent anymore.\n",
        "    #test set\n",
        "    #Creating test predictions\n",
        "    model.eval()\n",
        "    Test_predictions = []\n",
        "    Test_labels = []\n",
        "    with torch.no_grad():\n",
        "      for test_batch in test_loader:\n",
        "          test_inputs, test_labels, test_id = test_batch\n",
        "          if torch.cuda.is_available(): test_inputs, test_labels = test_inputs.to('cuda'), test_labels.to('cuda')\n",
        "          test_labels = test_labels.unsqueeze(1)\n",
        "          test_outputs = model(test_inputs)\n",
        "          test_labels = test_labels.float()\n",
        "          #accuracy\n",
        "          test_outputs = test_outputs.cpu()\n",
        "          test_labels = test_labels.cpu()\n",
        "          test_outputs_np = test_outputs.detach().numpy()\n",
        "          test_outputs_sig = 1/(1 + np.exp(-test_outputs_np))\n",
        "          test_outputs_round =np.round(test_outputs_sig)\n",
        "          test_outputs_tensor = torch.from_numpy(test_outputs_round)\n",
        "          Test_predictions.append(test_outputs_tensor)\n",
        "          Test_labels.append(test_labels)\n",
        "\n",
        "    #evaluation epoch\n",
        "    Test_predictions= torch.cat(Test_predictions)\n",
        "    Test_labels=torch.cat(Test_labels)\n",
        "    Test_accuracy = metrics.balanced_accuracy_score(Test_labels, Test_predictions) #the average of recall obtained on each class.\n",
        "    #a false negative rate is also interesting to determine because a FN is the worst for a breeder\n",
        "    tn, fp, fn, tp = metrics.confusion_matrix(Test_labels, Test_predictions).ravel()\n",
        "    F2_score_test = metrics.fbeta_score(Test_labels, Test_predictions, beta=2)\n",
        "    print(\"Test Balanced Accuracy {:.4f} \".format(Test_accuracy))\n",
        "    print(\"Test F2 score {:.4f} \".format(F2_score_test))\n",
        "    if val_accuracy > Best_val_accuracy and F2_score > Best_val_F2:\n",
        "      Best_val_accuracy = val_accuracy\n",
        "      Best_val_F2 = F2_score\n",
        "      val_confidence_matrix= metrics.ConfusionMatrixDisplay.from_predictions(Test_labels, Test_predictions, normalize='true',cmap='Blues')\n",
        "      plt.title('CNN threshold')\n",
        "      plt.show()\n"
      ]
    }
  ],
  "metadata": {
    "accelerator": "GPU",
    "colab": {
      "gpuType": "T4",
      "machine_shape": "hm",
      "provenance": [],
      "toc_visible": true,
      "include_colab_link": true
    },
    "kernelspec": {
      "display_name": "Python 3",
      "name": "python3"
    },
    "language_info": {
      "name": "python"
    }
  },
  "nbformat": 4,
  "nbformat_minor": 0
}
