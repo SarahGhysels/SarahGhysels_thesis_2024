{
  "nbformat": 4,
  "nbformat_minor": 0,
  "metadata": {
    "colab": {
      "provenance": [],
      "toc_visible": true,
      "authorship_tag": "ABX9TyM3uxwAbpHKBBJ4cVYN0gx7",
      "include_colab_link": true
    },
    "kernelspec": {
      "name": "python3",
      "display_name": "Python 3"
    },
    "language_info": {
      "name": "python"
    }
  },
  "cells": [
    {
      "cell_type": "markdown",
      "metadata": {
        "id": "view-in-github",
        "colab_type": "text"
      },
      "source": [
        "<a href=\"https://colab.research.google.com/github/SarahGhysels/SarahGhysels_thesis_2024/blob/Thesis/ThesisSarahGhysels_TrainTestSpit_threshold.ipynb\" target=\"_parent\"><img src=\"https://colab.research.google.com/assets/colab-badge.svg\" alt=\"Open In Colab\"/></a>"
      ]
    },
    {
      "cell_type": "markdown",
      "source": [
        "# Creating a stratified test set"
      ],
      "metadata": {
        "id": "rdsb2tRMza4C"
      }
    },
    {
      "cell_type": "markdown",
      "source": [
        "The stratified train-test split is based on the threshold classes."
      ],
      "metadata": {
        "id": "DIJNjhwZXkux"
      }
    },
    {
      "cell_type": "markdown",
      "source": [
        "## Importing functions"
      ],
      "metadata": {
        "id": "0KW3WBQAViF3"
      }
    },
    {
      "cell_type": "code",
      "source": [
        "%pip install split-folders tqdm"
      ],
      "metadata": {
        "colab": {
          "base_uri": "https://localhost:8080/"
        },
        "id": "rNNzqu-T1Btf",
        "outputId": "101bc6ff-120a-43a2-dd6f-a3e90d205d45"
      },
      "execution_count": null,
      "outputs": [
        {
          "output_type": "stream",
          "name": "stdout",
          "text": [
            "Requirement already satisfied: split-folders in /usr/local/lib/python3.10/dist-packages (0.5.1)\n",
            "Requirement already satisfied: tqdm in /usr/local/lib/python3.10/dist-packages (4.66.2)\n"
          ]
        }
      ]
    },
    {
      "cell_type": "code",
      "source": [
        "import os\n",
        "import shutil\n",
        "import splitfolders\n",
        "import pandas as pd\n",
        "import re\n",
        "import numpy as np"
      ],
      "metadata": {
        "id": "kqBLnmlN1FqU"
      },
      "execution_count": null,
      "outputs": []
    },
    {
      "cell_type": "markdown",
      "source": [
        "## Reading in data"
      ],
      "metadata": {
        "id": "RJRhdna5zjN9"
      }
    },
    {
      "cell_type": "code",
      "execution_count": null,
      "metadata": {
        "colab": {
          "base_uri": "https://localhost:8080/"
        },
        "id": "m7QirpG2zYzt",
        "outputId": "3f326c26-9f86-4161-fbe3-8104b3369650"
      },
      "outputs": [
        {
          "output_type": "stream",
          "name": "stdout",
          "text": [
            "Mounted at /content/drive\n"
          ]
        }
      ],
      "source": [
        "#Linking google drive\n",
        "from google.colab import drive\n",
        "drive.mount('/content/drive',force_remount=True)"
      ]
    },
    {
      "cell_type": "code",
      "source": [
        "classesbreeder_directory = '/content/drive/MyDrive/Sarah_Ghysels_Thesis/DatamodelNewClips/ClassesBreeder'\n",
        "newclasses_directory ='/content/drive/MyDrive/Sarah_Ghysels_Thesis/DatamodelNewClips/ClassesThreshold'\n",
        "test_directory = '/content/drive/MyDrive/Sarah_Ghysels_Thesis/DatamodelNewClips'"
      ],
      "metadata": {
        "id": "n-pIhtYnzlez"
      },
      "execution_count": null,
      "outputs": []
    },
    {
      "cell_type": "markdown",
      "source": [
        "## Creating new classes based on threshold DMY"
      ],
      "metadata": {
        "id": "LztIwWzc6mQK"
      }
    },
    {
      "cell_type": "code",
      "source": [
        "#Determine threshold\n",
        "Dataset_multigras= pd.read_csv(\"/content/drive/MyDrive/Sarah_Ghysels_Thesis/Datamodel/Multigras_data.csv\", sep=';')\n",
        "DMY = Dataset_multigras['DMY (kg/ha)']\n",
        "\n",
        "DMY_int=[]\n",
        "for i in range(0,len(DMY)):\n",
        "   try: DMY_int.append(int(DMY[i]))\n",
        "   except ValueError: DMY_int.append(-544)\n",
        "\n",
        "DMY_int.sort()\n",
        "Top10percent = round(9*4224/10)\n",
        "threshold = DMY_int[Top10percent]\n",
        "print(threshold)"
      ],
      "metadata": {
        "colab": {
          "base_uri": "https://localhost:8080/"
        },
        "id": "jFfZRliI6qLc",
        "outputId": "8bd886eb-73fd-4c90-8026-2240ea7a4929"
      },
      "execution_count": null,
      "outputs": [
        {
          "output_type": "stream",
          "name": "stdout",
          "text": [
            "6811\n"
          ]
        }
      ]
    },
    {
      "cell_type": "markdown",
      "source": [
        "So the values with a DMY above or equal to 6811 will go to the 'Keep' class, the ones below 6811 will go to the 'Discard' class. The terms 'Keep' and 'Discard' refer to the plants the breeder would like to keep to continue breeding with and the plants that would be discarded in the breeding process."
      ],
      "metadata": {
        "id": "2lgfhW56Vt2r"
      }
    },
    {
      "cell_type": "code",
      "source": [
        "#Matching images with DMY values\n",
        "\n",
        "#read in the labels\n",
        "labels = os.listdir(classesbreeder_directory)\n",
        "# sort the training labesl\n",
        "labels.sort()\n",
        "\n",
        "for name in labels:\n",
        "  dir = os.path.join(classesbreeder_directory,name)\n",
        "  for file in os.listdir(dir):\n",
        "    #get y value that corresponds with this image\n",
        "    RowCol_string=re.findall(r'BLOK\\d+R\\d+P\\d+',file)\n",
        "    BlokRowCol=re.findall(r'\\d+', RowCol_string[0])\n",
        "    Blok=int(BlokRowCol[0])\n",
        "    Row=int(BlokRowCol[1])\n",
        "    Col=int(BlokRowCol[2])\n",
        "    index=((Blok-1)*44*32+(Row-1)*32 + Col)-1\n",
        "    try:y= np.float32(DMY[index])\n",
        "    except ValueError:y=-1\n",
        "    if y>=threshold:\n",
        "      destination_path = os.path.join(newclasses_directory, 'Keep', file)\n",
        "      source_path = os.path.join(dir, file)\n",
        "      shutil.copy(source_path, destination_path)\n",
        "    else:\n",
        "      destination_path = os.path.join(newclasses_directory, 'Discard', file)\n",
        "      source_path = os.path.join(dir, file)\n",
        "      shutil.copy(source_path, destination_path)"
      ],
      "metadata": {
        "id": "x0kkCfxW7d9t"
      },
      "execution_count": null,
      "outputs": []
    },
    {
      "cell_type": "code",
      "source": [
        "#Checking if there is indeed 10% in the keep folder\n",
        "keep_path = os.path.join(newclasses_directory, 'Keep')\n",
        "discard_path = os.path.join(newclasses_directory, 'Discard')\n",
        "lst_keep = os.listdir(keep_path)\n",
        "number_files = len(lst_keep)\n",
        "print(number_files)\n",
        "lst_discard = os.listdir(discard_path)\n",
        "number_files = len(lst_discard)\n",
        "print(number_files)\n",
        "#correct"
      ],
      "metadata": {
        "colab": {
          "base_uri": "https://localhost:8080/"
        },
        "id": "NfXzjegiOzOS",
        "outputId": "7c435939-a2c4-4c60-83c4-6c1203830cb3"
      },
      "execution_count": null,
      "outputs": [
        {
          "output_type": "stream",
          "name": "stdout",
          "text": [
            "414\n",
            "3778\n"
          ]
        }
      ]
    },
    {
      "cell_type": "code",
      "source": [
        "#Creating a stratified split in train and test set\n",
        "splitfolders.ratio(newclasses_directory, output=test_directory, seed=1337, ratio=(0.9, 0.1), group_prefix=None, move=False)"
      ],
      "metadata": {
        "colab": {
          "base_uri": "https://localhost:8080/"
        },
        "id": "-J1PiGPI0Xix",
        "outputId": "90230a1a-df5e-4337-a5ed-f6ba4039ae21"
      },
      "execution_count": null,
      "outputs": [
        {
          "output_type": "stream",
          "name": "stderr",
          "text": [
            "Copying files: 4192 files [01:58, 35.25 files/s]\n"
          ]
        }
      ]
    },
    {
      "cell_type": "code",
      "source": [
        "#checking how many images from each class are in the two folders\n",
        "trainkeep =  os.path.join(test_directory,'train', 'Keep')\n",
        "traindiscard =  os.path.join(test_directory,'train', 'Discard')\n",
        "testkeep =  os.path.join(test_directory,'val', 'Keep')\n",
        "testdiscard =  os.path.join(test_directory,'val', 'Discard')\n",
        "lst = os.listdir(trainkeep)\n",
        "number_files = len(lst)\n",
        "print(number_files)\n",
        "lst = os.listdir(traindiscard)\n",
        "number_files = len(lst)\n",
        "print(number_files)\n",
        "lst = os.listdir(testkeep)\n",
        "number_files = len(lst)\n",
        "print(number_files)\n",
        "lst = os.listdir(testdiscard)\n",
        "number_files = len(lst)\n",
        "print(number_files) #all correct"
      ],
      "metadata": {
        "colab": {
          "base_uri": "https://localhost:8080/"
        },
        "id": "pbCKd7BwRlK-",
        "outputId": "7cafd41b-191a-41b5-a5e2-e4826a414ebc"
      },
      "execution_count": null,
      "outputs": [
        {
          "output_type": "stream",
          "name": "stdout",
          "text": [
            "372\n",
            "3400\n",
            "42\n",
            "378\n"
          ]
        }
      ]
    },
    {
      "cell_type": "markdown",
      "source": [
        "42 is a very small number of images in the Keep class of the test set. This might influence the accuracy of the models on the test set. However, it was decided to keep this proportion of test and training set, since 372 is also a small number of images and this will still be split into a train and validation set, further reducing its size."
      ],
      "metadata": {
        "id": "z6eDtG1ZYEsM"
      }
    },
    {
      "cell_type": "code",
      "source": [
        "#renaming val to Test and train to Train\n",
        "testdir_old =  os.path.join(test_directory,'val')\n",
        "testdir_new =  os.path.join(test_directory,'Test')\n",
        "os.rename(testdir_old, testdir_new)\n",
        "traindir_old =  os.path.join(test_directory,'train')\n",
        "traindir_new =  os.path.join(test_directory,'Train')\n",
        "os.rename(traindir_old, traindir_new)"
      ],
      "metadata": {
        "id": "6L7LfukESMMW"
      },
      "execution_count": null,
      "outputs": []
    }
  ]
}