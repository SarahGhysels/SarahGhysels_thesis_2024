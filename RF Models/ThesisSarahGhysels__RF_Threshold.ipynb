{
  "nbformat": 4,
  "nbformat_minor": 0,
  "metadata": {
    "colab": {
      "provenance": [],
      "toc_visible": true,
      "include_colab_link": true
    },
    "kernelspec": {
      "name": "python3",
      "display_name": "Python 3"
    },
    "language_info": {
      "name": "python"
    }
  },
  "cells": [
    {
      "cell_type": "markdown",
      "metadata": {
        "id": "view-in-github",
        "colab_type": "text"
      },
      "source": [
        "<a href=\"https://colab.research.google.com/github/SarahGhysels/SarahGhysels_thesis_2024/blob/Thesis/ThesisSarahGhysels__RF_Threshold.ipynb\" target=\"_parent\"><img src=\"https://colab.research.google.com/assets/colab-badge.svg\" alt=\"Open In Colab\"/></a>"
      ]
    },
    {
      "cell_type": "markdown",
      "source": [
        "#Random forest model"
      ],
      "metadata": {
        "id": "n-ArgjsumKgq"
      }
    },
    {
      "cell_type": "markdown",
      "source": [
        "## Installing necessary functions"
      ],
      "metadata": {
        "id": "iVGlVjR_mNw_"
      }
    },
    {
      "cell_type": "code",
      "execution_count": null,
      "metadata": {
        "id": "MoSeukxO98qh"
      },
      "outputs": [],
      "source": [
        "%pip install mahotas\n",
        "%pip install Augmentor\n",
        "%pip install split-folders tqdm\n",
        "%pip uninstall -y numpy #these 4 lines were added because of an error with loading the LabelEncoder\n",
        "%pip uninstall -y setuptools\n",
        "%pip install numpy\n",
        "%pip install setuptools\n",
        "#don't forget to click restart runtime here!"
      ]
    },
    {
      "cell_type": "code",
      "source": [
        "import itertools\n",
        "import numpy as np\n",
        "import mahotas\n",
        "import cv2\n",
        "import os\n",
        "import matplotlib.pyplot as plt\n",
        "import Augmentor\n",
        "import pandas as pd\n",
        "import random\n",
        "import math\n",
        "from sklearn.model_selection import train_test_split, cross_val_score\n",
        "from sklearn import metrics\n",
        "from sklearn.ensemble import RandomForestClassifier\n",
        "from google.colab import files\n",
        "import shutil\n",
        "from sklearn.model_selection import GridSearchCV\n",
        "import re\n",
        "import splitfolders\n",
        "from math import copysign\n",
        "from sklearn.feature_selection import SelectFromModel\n",
        "import seaborn as sns"
      ],
      "metadata": {
        "id": "r5Huzgzq-SPp"
      },
      "execution_count": null,
      "outputs": []
    },
    {
      "cell_type": "code",
      "source": [
        "from google.colab import drive\n",
        "drive.mount('/content/drive',force_remount=True)"
      ],
      "metadata": {
        "id": "mJjQf1l_Aerd",
        "colab": {
          "base_uri": "https://localhost:8080/"
        },
        "outputId": "70a241d3-99ac-403a-d17f-e33d7b0e7b87"
      },
      "execution_count": null,
      "outputs": [
        {
          "output_type": "stream",
          "name": "stdout",
          "text": [
            "Mounted at /content/drive\n"
          ]
        }
      ]
    },
    {
      "cell_type": "markdown",
      "source": [
        "## Creating functions for later use"
      ],
      "metadata": {
        "id": "mc96nFgMmTmn"
      }
    },
    {
      "cell_type": "markdown",
      "source": [
        "### Features extraction"
      ],
      "metadata": {
        "id": "762KptAZ66UQ"
      }
    },
    {
      "cell_type": "code",
      "source": [
        "# FUNCTION TO CALCULATE LEARNABLE FEATURES IN IMAGES\n",
        "\n",
        "\n",
        "# features description -1:  Hu Moments\n",
        "def fd_hu_moments(image):\n",
        "    #thresholding with geen pixel mask\n",
        "    blue, green, red = cv2.split(image)\n",
        "    basic=(blue<65) & (green>80)\n",
        "    dark= (blue<40) & (green>35) & (red <45)\n",
        "    lightmedium= (blue>50) & (blue<100) &(green>110) & (red >70)& (red <130)\n",
        "    lightvery = (blue>50) & (blue<140) &(green>150) & (red >80)& (red <160)\n",
        "    newimg=basic+dark+lightvery+lightmedium\n",
        "    thres = np.multiply(newimg, 1, dtype='uint8' )\n",
        "    #Hu moments\n",
        "    feature = cv2.HuMoments(cv2.moments(thres)).flatten()\n",
        "    for i in range(0,7):\n",
        "      if feature[i] !=0:\n",
        "        feature[i] = -1* copysign(1.0, feature[i]) * np.log10(abs(feature[i]))\n",
        "    return feature\n",
        "\n",
        "# feature-descriptor -2: Haralick Texture\n",
        "def fd_haralick(image):\n",
        "    # convert the image to grayscale\n",
        "    gray = cv2.cvtColor(image,cv2.COLOR_BGR2GRAY)\n",
        "    # Compute the haralick texture feature vector\n",
        "    haralick = mahotas.features.haralick(gray).mean(axis=0)\n",
        "    return haralick\n",
        "\n",
        "# feature-description -3: Color Histogram\n",
        "def fd_histogram(image, mask=None):\n",
        "    image = cv2.cvtColor(image, cv2.COLOR_BGR2HSV)\n",
        "    #COMPUTE THE COLOR HISTOGRAM\n",
        "    hist  = cv2.calcHist([image],[0,1,2],None,[8,8,8], [0, 180, 0, 256, 0, 256])\n",
        "    # normalize the histogram\n",
        "    cv2.normalize(hist,hist)\n",
        "    # return the histogram\n",
        "    return hist.flatten()\n",
        "\n",
        "#feature-description -4: sum green pixels as feature\n",
        "def fd_greenpixels(image):\n",
        "  #First green counter\n",
        "  blue, green, red = cv2.split(image)\n",
        "  basic=(blue<65) & (green>80)\n",
        "  dark= (blue<40) & (green>35) & (red <45)\n",
        "  lightmedium= (blue>50) & (blue<100) &(green>110) & (red >70)& (red <130)\n",
        "  lightvery = (blue>50) & (blue<140) &(green>150) & (red >80)& (red <160)\n",
        "  newimg=basic+dark+lightvery+lightmedium\n",
        "  sumpixels=newimg.sum()\n",
        "  #Second green counter\n",
        "  newimg2 = (green>(blue+20))&(green>(red+15))\n",
        "  sumpixels2 = newimg2.sum()\n",
        "  return sumpixels, sumpixels2\n",
        "\n",
        "#feature-description -5: sum green pixels as feature\n",
        "def fd_vegindices(image): #these come from https://isprs-archives.copernicus.org/articles/XLII-3/1215/2018/isprs-archives-XLII-3-1215-2018.pdf\n",
        "#   this paper also uses these: https://www.sciencedirect.com/science/article/pii/S1470160X16301406?casa_token=8wIIrswmqc8AAAAA:tr0iQCh7kW4ZjbWMLckAAPwQpYsF2GFS3ERnglxFSrYd8C8-WVuREf83BPYjv391ZAlpsz9mPFY\n",
        "  blue, green, red = cv2.split(image)\n",
        "  RGBVI = (np.multiply(green, green, dtype=np.uint32) - np.multiply(red, blue, dtype=np.uint32))/(np.multiply(green, green, dtype=np.uint32)+np.multiply(red, blue,dtype=np.uint32 ))\n",
        "  GLI = ((np.multiply(green,2,dtype=np.uint16 ) - red - blue)/(np.multiply(green,2,dtype=np.uint16 ) +red+blue))\n",
        "  VARI = ((green-red)/(np.add(red, green, dtype = np.uint16)-blue))\n",
        "  NGRDI = ((green-red)/(np.add(red, green, dtype = np.uint16)))\n",
        "  combo = [np.mean(RGBVI), np.mean(GLI), np.mean(VARI), np.mean(NGRDI)]\n",
        "  return combo"
      ],
      "metadata": {
        "id": "62npxKZ1EGx-"
      },
      "execution_count": null,
      "outputs": []
    },
    {
      "cell_type": "markdown",
      "source": [
        "### Oversampling"
      ],
      "metadata": {
        "id": "aJ7nDsVbabKx"
      }
    },
    {
      "cell_type": "code",
      "source": [
        "#Function to generate extra data by oversampling\n",
        "def oversample_func(split_directory, folders, target_folders, requiredNbrOfImages):\n",
        "    for i in range(len(folders)):\n",
        "        path, dirs, files = next(os.walk(folders[i]))\n",
        "        nbrOfImages = len(files)\n",
        "        nbrOfImagesNeeded = requiredNbrOfImages - nbrOfImages\n",
        "        seed = random.randint(0, 1000)\n",
        "\n",
        "        if nbrOfImagesNeeded > 0:\n",
        "            tfd = target_folders[i]\n",
        "            print (\"saving in \" + tfd)\n",
        "            p = Augmentor.Pipeline(source_directory=folders[i], output_directory=tfd)\n",
        "            p.set_seed(seed)\n",
        "            p.flip_left_right(probability=0.5)\n",
        "            p.rotate(probability=0.7, max_left_rotation=15, max_right_rotation=15)\n",
        "            p.flip_left_right(probability=0.5)\n",
        "            p.sample(nbrOfImagesNeeded, multi_threaded=False)"
      ],
      "metadata": {
        "id": "Ip9J8IoiHErD"
      },
      "execution_count": null,
      "outputs": []
    },
    {
      "cell_type": "markdown",
      "source": [
        "## Using the model"
      ],
      "metadata": {
        "id": "GpRcL59Qnvxf"
      }
    },
    {
      "cell_type": "markdown",
      "source": [
        "### Reading in data"
      ],
      "metadata": {
        "id": "qdYMoFWVafZQ"
      }
    },
    {
      "cell_type": "code",
      "source": [
        "main_path='/content/drive/MyDrive/Sarah_Ghysels_Thesis/DatamodelNewClips/Train'\n",
        "split_path= '/content/drive/MyDrive/Sarah_Ghysels_Thesis/DatamodelNewClips/Split'\n",
        "train_path = split_path + \"/train\"\n",
        "val_path = split_path + \"/val\"\n",
        "oversample_path='/content/drive/MyDrive/Sarah_Ghysels_Thesis/Datamodel/OversampleThresh'\n",
        "output_path='/content/drive/MyDrive/Sarah_Ghysels_Thesis/OutputRF'"
      ],
      "metadata": {
        "id": "aM88-wmt-c2r"
      },
      "execution_count": null,
      "outputs": []
    },
    {
      "cell_type": "code",
      "source": [
        "#reading in the y data\n",
        "Dataset_multigras= pd.read_csv('/content/drive/MyDrive/Sarah_Ghysels_Thesis/Datamodel/Multigras_data.csv', sep=';')\n",
        "DMY = Dataset_multigras['DMY (kg/ha)']\n",
        "DMY_int=[]\n",
        "for i in range(0,len(DMY)):\n",
        "   try: DMY_int.append(int(DMY[i]))\n",
        "   except ValueError: DMY_int.append(-544)\n"
      ],
      "metadata": {
        "id": "_xy71pQjmM0m"
      },
      "execution_count": null,
      "outputs": []
    },
    {
      "cell_type": "markdown",
      "source": [
        "### Creating paths and oversampling"
      ],
      "metadata": {
        "id": "Ui-WhkdSakOo"
      }
    },
    {
      "cell_type": "code",
      "source": [
        "#setting up model directory\n",
        "#split folder verwijderen\n",
        "!rm -rf '{split_path}'\n",
        "#regression folder verwijderen\n",
        "!rm -rf '{oversample_path}'\n",
        "#output folder verwijderen en opnieuw aanmaken\n",
        "!rm -rf '{output_path}'\n",
        "os.makedirs(output_path)\n",
        "#Nieuwe split doen op de folders\n",
        "splitfolders.ratio(main_path, output=split_path, seed=382, ratio=(0.8, 0.2), group_prefix=None, move=False)"
      ],
      "metadata": {
        "colab": {
          "base_uri": "https://localhost:8080/"
        },
        "id": "5GB_SMMOi_mb",
        "outputId": "ce805385-33b2-407b-afb9-1575a49c360f"
      },
      "execution_count": null,
      "outputs": [
        {
          "output_type": "stream",
          "name": "stderr",
          "text": [
            "Copying files: 3772 files [02:03, 30.52 files/s]\n"
          ]
        }
      ]
    },
    {
      "cell_type": "code",
      "source": [
        "# #oversample\n",
        "# target_dir = train_path\n",
        "# dir=target_dir\n",
        "# folders = [os.path.join(dir, folder) for folder in next(os.walk(dir))[1]]\n",
        "# target_folders = [os.path.join(target_dir, folder) for folder in next(os.walk(dir))[1]]\n",
        "# oversample_func(split_path,  folders, target_folders, 2720)"
      ],
      "metadata": {
        "id": "v_rK0dmTkX-Q"
      },
      "execution_count": null,
      "outputs": []
    },
    {
      "cell_type": "markdown",
      "source": [
        "### Feature extracting and combining with DMY values"
      ],
      "metadata": {
        "id": "GqGAwlpqaqux"
      }
    },
    {
      "cell_type": "code",
      "source": [
        "#determining threshold\n",
        "#First transforming all values to integers and transforming error to negative number other errors are denoted with\n",
        "DMY_int=[]\n",
        "for i in range(0,len(DMY)):\n",
        "   try: DMY_int.append(int(DMY[i]))\n",
        "   except ValueError: DMY_int.append(-544)\n",
        "\n",
        "DMY_int.sort()\n",
        "Top10percent = round(9*4224/10)\n",
        "threshold = DMY_int[Top10percent]\n",
        "print(threshold)"
      ],
      "metadata": {
        "colab": {
          "base_uri": "https://localhost:8080/"
        },
        "id": "qFztZTBvbug0",
        "outputId": "2eff0ada-8fe1-4388-e1f2-3ea11aeaccc8"
      },
      "execution_count": null,
      "outputs": [
        {
          "output_type": "stream",
          "name": "stdout",
          "text": [
            "6811\n"
          ]
        }
      ]
    },
    {
      "cell_type": "code",
      "source": [
        "#creating datasets\n",
        "# read the training data labels\n",
        "train_labels = os.listdir(train_path)\n",
        "# sort the training labesl\n",
        "train_labels.sort()\n",
        "# empty list to hold feature vectors and labels\n",
        "features_train = []\n",
        "y_values_train = []\n",
        "\n",
        "# loop over the training data sub folder\n",
        "for training_name in train_labels:\n",
        "  # join the training data path and each training folder\n",
        "  dir = os.path.join(train_path, training_name)\n",
        "\n",
        "  # loop over the images in each sub-folder\n",
        "  for file in os.listdir(dir):\n",
        "    #get y value that corresponds with this image\n",
        "    RowCol_string=re.findall(r'BLOK\\d+R\\d+P\\d+',file)\n",
        "    BlokRowCol=re.findall(r'\\d+', RowCol_string[0])\n",
        "    Blok=int(BlokRowCol[0])\n",
        "    Row=int(BlokRowCol[1])\n",
        "    Col=int(BlokRowCol[2])\n",
        "    index=((Blok-1)*44*32+(Row-1)*32 + Col)-1\n",
        "    try:y= int(DMY[index])\n",
        "    except ValueError:y=-1\n",
        "    if y>=threshold: y = 1\n",
        "    elif y>-1 and y<threshold: y = 0\n",
        "\n",
        "    file = dir + \"/\" + os.fsdecode(file)\n",
        "    # read the image and compute features\n",
        "    image = cv2.imread(file)\n",
        "\n",
        "    image = cv2.resize(image,tuple((51, 51)))\n",
        "    fv_hu_moments = fd_hu_moments(image)\n",
        "    fv_haralick   = fd_haralick(image)\n",
        "    fv_histogram  = fd_histogram(image)\n",
        "    fv_greenpixels= fd_greenpixels(image)\n",
        "    fv_vegindices = fd_vegindices(image)\n",
        "\n",
        "    # Concatenate global features\n",
        "    global_feature = np.hstack([fv_histogram,fv_haralick, fv_hu_moments,fv_greenpixels, fv_vegindices])\n",
        "\n",
        "    # update the list of labels and feature vectors\n",
        "    if (y>-1):\n",
        "      y_values_train.append(y)\n",
        "      features_train.append(global_feature)\n",
        "\n",
        "print(\"Completed Training Set Feature Extraction...\")\n",
        "\n",
        "#creating datasets\n",
        "# read the validation data labels\n",
        "val_labels = os.listdir(val_path)\n",
        "# sort the validation labels\n",
        "val_labels.sort()\n",
        "# empty list to hold feature vectors and labels\n",
        "features_val = []\n",
        "y_values_val = []\n",
        "\n",
        "# loop over the validation data sub folder\n",
        "for val_name in val_labels:\n",
        "  # join the validation data path and each validation folder\n",
        "  dir = os.path.join(val_path, val_name)\n",
        "\n",
        "  # loop over the images in each sub-folder\n",
        "\n",
        "  for file in os.listdir(dir):\n",
        "    #get y value that corresponds with this image\n",
        "    RowCol_string=re.findall(r'BLOK\\d+R\\d+P\\d+',file)\n",
        "    BlokRowCol=re.findall(r'\\d+', RowCol_string[0])\n",
        "    Blok=int(BlokRowCol[0])\n",
        "    Row=int(BlokRowCol[1])\n",
        "    Col=int(BlokRowCol[2])\n",
        "    index=((Blok-1)*44*32+(Row-1)*32 + Col)-1\n",
        "    try:y= int(DMY[index])\n",
        "    except ValueError:y=-1\n",
        "    if y>=threshold: y = 1 #changed\n",
        "    elif y>-1 and y<threshold: y = 0\n",
        "\n",
        "    file = dir + \"/\" + os.fsdecode(file)\n",
        "    # read the image and compute features\n",
        "    image = cv2.imread(file)\n",
        "\n",
        "    image = cv2.resize(image, tuple((51, 51)))\n",
        "    fv_hu_moments = fd_hu_moments(image)\n",
        "    fv_haralick   = fd_haralick(image)\n",
        "    fv_histogram  = fd_histogram(image)\n",
        "    fv_greenpixels= fd_greenpixels(image)\n",
        "    fv_vegindices = fd_vegindices(image)\n",
        "\n",
        "    # Concatenate global features\n",
        "    global_feature = np.hstack([fv_histogram,fv_haralick, fv_hu_moments,fv_greenpixels, fv_vegindices ])\n",
        "\n",
        "    # update the list of labels and feature vectors\n",
        "    if (y>-1):                                 # & (y<10000)\n",
        "      y_values_val.append(y)\n",
        "      features_val.append(global_feature)\n",
        "\n",
        "print(\"Completed Validation Set Feature Extraction...\")\n",
        "\n",
        "#creating datasets\n",
        "#creating X datasets\n",
        "X_train=np.array(features_train)\n",
        "X_val=np.array(features_val)\n",
        "\n",
        "#creating y datasets\n",
        "y_train =y_values_train\n",
        "y_val = y_values_val"
      ],
      "metadata": {
        "id": "Bes1qtYErjrV",
        "colab": {
          "base_uri": "https://localhost:8080/"
        },
        "outputId": "091cef77-e65e-4f9f-bf8d-094b303a2232"
      },
      "execution_count": null,
      "outputs": [
        {
          "output_type": "stream",
          "name": "stdout",
          "text": [
            "Completed Training Set Feature Extraction...\n",
            "Completed Validation Set Feature Extraction...\n"
          ]
        }
      ]
    },
    {
      "cell_type": "markdown",
      "source": [
        "### Creating and tuning the model"
      ],
      "metadata": {
        "id": "eLfy9XQ6a1Oz"
      }
    },
    {
      "cell_type": "code",
      "source": [
        "# #creating the model and hyperparameter tuning\n",
        "# forest  = RandomForestClassifier(n_estimators=250, max_features='sqrt') #max features is the amount of features for each split\n",
        "# parameter_grid_forest = {\n",
        "#   \"criterion\": ['gini', 'entropy', 'log_loss'], #'gini', 'entropy', 'log_loss'\n",
        "#   \"max_depth\": [3,5,7],\n",
        "#   \"ccp_alpha\": np.logspace(-3, 0, 10)\n",
        "#   }\n",
        "\n",
        "# grid_forest = GridSearchCV(forest, parameter_grid_forest, scoring='balanced_accuracy')\n",
        "# grid_forest.fit(X_train,y_train)\n",
        "# print('The best parameters are: {}'.format(grid_forest.best_params_))"
      ],
      "metadata": {
        "id": "bnQ-CcZgmv8j",
        "colab": {
          "base_uri": "https://localhost:8080/"
        },
        "outputId": "a5a7a079-1259-432d-8ba4-11fdbd39517c"
      },
      "execution_count": null,
      "outputs": [
        {
          "output_type": "stream",
          "name": "stdout",
          "text": [
            "The best parameters are: {'ccp_alpha': 0.001, 'criterion': 'entropy', 'max_depth': 7}\n"
          ]
        }
      ]
    },
    {
      "cell_type": "code",
      "source": [
        "#testing the optimized model\n",
        "forest_opt= RandomForestClassifier(n_estimators=1000, max_features='sqrt', criterion = 'entropy',max_depth=5,ccp_alpha=0.001 ,class_weight='balanced')\n",
        "forest_opt.fit(X_train, y_train)\n",
        "\n",
        "Y_pred_train = forest_opt.predict(X_train)\n",
        "train_accuracy = metrics.balanced_accuracy_score(y_train, Y_pred_train)\n",
        "Y_pred=forest_opt.predict(X_val)\n",
        "val_accuracy = metrics.balanced_accuracy_score(y_val, Y_pred)\n",
        "F2_score = metrics.fbeta_score(y_val, Y_pred, beta=2)\n",
        "print(\"Train balanced Accuracy {:.4f} \".format(train_accuracy))\n",
        "print(\"Validation balanced Accuracy {:.4f} \".format(val_accuracy))\n",
        "print(\"Validation F2 score {:.4f} \".format(F2_score))\n",
        "Y_pred=forest_opt.predict(X_val)\n",
        "confidence_matrix= metrics.ConfusionMatrixDisplay.from_predictions(y_val, Y_pred, normalize='true', cmap='Blues')"
      ],
      "metadata": {
        "id": "rmTz3iu_yvLT",
        "colab": {
          "base_uri": "https://localhost:8080/"
        },
        "outputId": "82d1cada-04d4-4327-ee2e-3f2f7180ed61"
      },
      "execution_count": null,
      "outputs": [
        {
          "output_type": "stream",
          "name": "stdout",
          "text": [
            "Train balanced Accuracy 0.8436 \n",
            "Validation balanced Accuracy 0.8361 \n",
            "Validation F2 score 0.6688 \n"
          ]
        },
        {
          "output_type": "display_data",
          "data": {
            "text/plain": [
              "<Figure size 640x480 with 2 Axes>"
            ],
            "image/png": "[encoded data removed]"
          },
          "metadata": {}
        }
      ]
    },
    {
      "cell_type": "markdown",
      "source": [
        "### Feature selection"
      ],
      "metadata": {
        "id": "nTDSi4fwecsK"
      }
    },
    {
      "cell_type": "code",
      "source": [
        "#feature selection\n",
        "#selection with mean\n",
        "sel = SelectFromModel(RandomForestClassifier(n_estimators=1000, max_features = 'sqrt',ccp_alpha = 0.001,max_depth = 5, criterion ='entropy',class_weight='balanced'), threshold='mean')\n",
        "sel.fit(X_train, y_train)\n",
        "X_train_pd = pd.DataFrame(X_train)\n",
        "selected_feat= X_train_pd.columns[(sel.get_support())]\n",
        "print(len(selected_feat))\n",
        "print(selected_feat)\n",
        "\n",
        "X_train_selected = sel.transform(X_train)\n",
        "X_val_selected = sel.transform(X_val)\n",
        "forest_opt.fit(X_train_selected, y_train)\n",
        "Y_pred_train = forest_opt.predict(X_train_selected)\n",
        "train_accuracy = metrics.balanced_accuracy_score(y_train, Y_pred_train)\n",
        "Y_pred_val=forest_opt.predict(X_val_selected)\n",
        "val_accuracy = metrics.balanced_accuracy_score(y_val, Y_pred_val)\n",
        "F2_score = metrics.fbeta_score(y_val, Y_pred, beta=2)\n",
        "print(\"Train balanced Accuracy {:.4f} \".format(train_accuracy))\n",
        "print(\"Validation balanced Accuracy {:.4f} \".format(val_accuracy))\n",
        "print(\"Validation F1 score {:.4f} \".format(F2_score))\n",
        "confidence_matrix= metrics.ConfusionMatrixDisplay.from_predictions(y_val, Y_pred_val, normalize='true', cmap='Blues')"
      ],
      "metadata": {
        "id": "PwnC3LyamyjJ",
        "colab": {
          "base_uri": "https://localhost:8080/",
          "height": 916
        },
        "outputId": "97f4315f-48c0-4719-fd4d-0d1105b0a498"
      },
      "execution_count": null,
      "outputs": [
        {
          "output_type": "stream",
          "name": "stdout",
          "text": [
            "74\n",
            "Index([  2,   3,   4,   5,  10,  11,  66,  67,  68,  73,  74,  75,  76,  82,\n",
            "        83,  84,  90,  91,  98,  99, 106, 131, 132, 138, 139, 140, 141, 145,\n",
            "       146, 147, 148, 149, 153, 154, 155, 156, 157, 161, 162, 163, 164, 169,\n",
            "       170, 171, 177, 178, 179, 185, 450, 451, 452, 512, 514, 515, 517, 518,\n",
            "       519, 520, 521, 523, 524, 525, 526, 527, 528, 529, 530, 531, 532, 533,\n",
            "       534, 535, 536, 537],\n",
            "      dtype='int64')\n",
            "Train balanced Accuracy 0.8509 \n",
            "Validation balanced Accuracy 0.8144 \n",
            "Validation F1 score 0.6323 \n"
          ]
        },
        {
          "output_type": "display_data",
          "data": {
            "text/plain": [
              "<Figure size 1170x827 with 2 Axes>"
            ],
            "image/png": "[encoded data removed]"
          },
          "metadata": {}
        }
      ]
    },
    {
      "cell_type": "code",
      "source": [
        "#feature selection\n",
        "#selection with 0.01\n",
        "sel = SelectFromModel(RandomForestClassifier(n_estimators=1000, max_features = 'sqrt',ccp_alpha = 0.001,max_depth = 5, criterion ='entropy',class_weight='balanced'), threshold=0.01)\n",
        "sel.fit(X_train, y_train)\n",
        "X_train_pd = pd.DataFrame(X_train)\n",
        "selected_feat= X_train_pd.columns[(sel.get_support())]\n",
        "print(len(selected_feat))\n",
        "print(selected_feat)\n",
        "\n",
        "X_train_selected = sel.transform(X_train)\n",
        "X_val_selected = sel.transform(X_val)\n",
        "forest_opt.fit(X_train_selected, y_train)\n",
        "Y_pred_train = forest_opt.predict(X_train_selected)\n",
        "train_accuracy = metrics.balanced_accuracy_score(y_train, Y_pred_train)\n",
        "Y_pred_val=forest_opt.predict(X_val_selected)\n",
        "val_accuracy = metrics.balanced_accuracy_score(y_val, Y_pred_val)\n",
        "F2_score = metrics.fbeta_score(y_val, Y_pred, beta=2)\n",
        "print(\"Train balanced Accuracy {:.4f} \".format(train_accuracy))\n",
        "print(\"Validation balanced Accuracy {:.4f} \".format(val_accuracy))\n",
        "print(\"Validation F1 score {:.4f} \".format(F2_score))\n",
        "confidence_matrix= metrics.ConfusionMatrixDisplay.from_predictions(y_val, Y_pred_val, normalize='true', cmap='Blues')"
      ],
      "metadata": {
        "colab": {
          "base_uri": "https://localhost:8080/",
          "height": 176
        },
        "id": "44F__babb5au",
        "outputId": "42cc9aae-b930-4a52-f330-7e7bb89a347e"
      },
      "execution_count": null,
      "outputs": [
        {
          "output_type": "stream",
          "name": "stdout",
          "text": [
            "24\n",
            "Index([  2,   3,   4,  66,  67,  68,  74,  75, 139, 177, 451, 514, 523, 524,\n",
            "       525, 526, 527, 528, 532, 533, 534, 535, 536, 537],\n",
            "      dtype='int64')\n",
            "Train balanced Accuracy 0.8407 \n",
            "Validation balanced Accuracy 0.8131 \n",
            "Validation F1 score 0.6323 \n"
          ]
        },
        {
          "output_type": "display_data",
          "data": {
            "text/plain": [
              "<Figure size 1170x827 with 2 Axes>"
            ],
            "image/png": "[encoded data removed]"
          },
          "metadata": {}
        }
      ]
    },
    {
      "cell_type": "code",
      "source": [
        "# Representing feature importance\n",
        "#names\n",
        "histo_names = [f\"Colour Histogram {i}\" for i in range(1,513)]\n",
        "haralick_names = [f\"Haralick Texture {i}\" for i in range(1,14)]\n",
        "Hu_names = [f\"Hu Moments {i}\" for i in range(1,8)]\n",
        "Greenpix_names = ['Green Pixels too strict', 'Green Pixels too lenient']\n",
        "Veg_names = ['RGBVI', 'GLI', 'VARI', 'NGRDI']\n",
        "feature_names = histo_names + haralick_names + Hu_names + Greenpix_names + Veg_names\n",
        "feature_names_pd = pd.DataFrame(data=feature_names)\n",
        "#importances\n",
        "forest_opt= RandomForestClassifier(n_estimators=1000, max_features = 'sqrt',ccp_alpha = 0.01,max_depth = 5, criterion ='entropy',class_weight='balanced' )\n",
        "forest_opt.fit(X_train, y_train)\n",
        "importances = forest_opt.feature_importances_\n",
        "std = np.std([tree.feature_importances_ for tree in forest_opt.estimators_], axis=0)\n",
        "forest_importances = pd.Series(importances, index=feature_names)\n",
        "sorted_indices = forest_importances.argsort()[::-1]\n",
        "sorted_feature_names = [feature_names[i] for i in sorted_indices]\n",
        "sorted_importances = forest_importances[sorted_indices]\n",
        "Important_feat_names = sorted_feature_names[0:15]\n",
        "Important_feat_importance = sorted_importances[0:15]\n",
        "\n",
        "sns.set(rc={'figure.figsize':(11.7,8.27)})\n",
        "sns.barplot(x=Important_feat_importance, y=Important_feat_names)\n",
        "plt.title('RF_threshold_382')\n",
        "\n",
        "print(Important_feat_names)\n",
        "print(Important_feat_importance)"
      ],
      "metadata": {
        "colab": {
          "base_uri": "https://localhost:8080/",
          "height": 890
        },
        "id": "uAyybycZb-HB",
        "outputId": "b59f6b54-a2c4-4565-ac38-b391fdcef1c6"
      },
      "execution_count": null,
      "outputs": [
        {
          "output_type": "stream",
          "name": "stdout",
          "text": [
            "['Green Pixels too lenient', 'Green Pixels too strict', 'Colour Histogram 68', 'Colour Histogram 4', 'RGBVI', 'GLI', 'VARI', 'Hu Moments 4', 'Colour Histogram 3', 'Colour Histogram 76', 'Colour Histogram 69', 'Hu Moments 1', 'Colour Histogram 5', 'NGRDI', 'Hu Moments 2']\n",
            "Green Pixels too lenient    0.086674\n",
            "Green Pixels too strict     0.073947\n",
            "Colour Histogram 68         0.060381\n",
            "Colour Histogram 4          0.059303\n",
            "RGBVI                       0.050193\n",
            "GLI                         0.043429\n",
            "VARI                        0.038133\n",
            "Hu Moments 4                0.028556\n",
            "Colour Histogram 3          0.027321\n",
            "Colour Histogram 76         0.027164\n",
            "Colour Histogram 69         0.025663\n",
            "Hu Moments 1                0.025424\n",
            "Colour Histogram 5          0.023170\n",
            "NGRDI                       0.019153\n",
            "Hu Moments 2                0.018586\n",
            "dtype: float64\n"
          ]
        },
        {
          "output_type": "display_data",
          "data": {
            "text/plain": [
              "<Figure size 1170x827 with 1 Axes>"
            ],
            "image/png": "[encoded data removed]"
          },
          "metadata": {}
        }
      ]
    },
    {
      "cell_type": "markdown",
      "source": [
        "## Testing optimal version of model"
      ],
      "metadata": {
        "id": "M7VnFkhTFfCA"
      }
    },
    {
      "cell_type": "code",
      "source": [
        "#importing test set\n",
        "test_path = '/content/drive/MyDrive/Sarah_Ghysels_Thesis/DatamodelNewClips/Test'"
      ],
      "metadata": {
        "id": "fGH7YvNkFis0"
      },
      "execution_count": null,
      "outputs": []
    },
    {
      "cell_type": "code",
      "source": [
        "#Extracting features and combining with DMY values test set\n",
        "#creating datasets\n",
        "# read the test data labels\n",
        "test_labels = os.listdir(test_path)\n",
        "# sort the test labesl\n",
        "test_labels.sort()\n",
        "# empty list to hold feature vectors and labels\n",
        "features_test = []\n",
        "y_values_test = []\n",
        "\n",
        "# loop over the test data sub folder\n",
        "for test_name in test_labels:\n",
        "  # join the test data path and each test folder\n",
        "  dir = os.path.join(test_path, test_name)\n",
        "\n",
        "  # loop over the images in each sub-folder\n",
        "\n",
        "  for file in os.listdir(dir):\n",
        "    #get y value that corresponds with this image\n",
        "    RowCol_string=re.findall(r'BLOK\\d+R\\d+P\\d+',file)\n",
        "    BlokRowCol=re.findall(r'\\d+', RowCol_string[0])\n",
        "    Blok=int(BlokRowCol[0])\n",
        "    Row=int(BlokRowCol[1])\n",
        "    Col=int(BlokRowCol[2])\n",
        "    index=((Blok-1)*44*32+(Row-1)*32 + Col)-1\n",
        "    try:y= int(DMY[index])\n",
        "    except ValueError:y=-1\n",
        "    if y>=threshold: y = 1\n",
        "    elif y>-1 and y<threshold: y = 0\n",
        "\n",
        "    file = dir + \"/\" + os.fsdecode(file)\n",
        "    # read the image and compute features\n",
        "    image = cv2.imread(file)\n",
        "\n",
        "    image = cv2.resize(image,tuple((51, 51)))\n",
        "    fv_hu_moments = fd_hu_moments(image)\n",
        "    fv_haralick   = fd_haralick(image)\n",
        "    fv_histogram  = fd_histogram(image)\n",
        "    fv_greenpixels= fd_greenpixels(image)\n",
        "    fv_vegindices = fd_vegindices(image)\n",
        "\n",
        "    # Concatenate global features\n",
        "    global_feature = np.hstack([fv_histogram,fv_haralick, fv_hu_moments,fv_greenpixels, fv_vegindices])\n",
        "\n",
        "    # update the list of labels and feature vectors\n",
        "    if (y>-1):\n",
        "      y_values_test.append(y)\n",
        "      features_test.append(global_feature)\n",
        "\n",
        "print(\"Completed Test Set Feature Extraction...\")\n",
        "\n",
        "#creating datasets\n",
        "X_test=np.array(features_test)\n",
        "y_test = y_values_test\n",
        "\n",
        "#Combining train and validation set to use both as a train set for the final model\n",
        "X_train_full = np.vstack((X_train,X_val))\n",
        "y_train_full = y_train+y_val"
      ],
      "metadata": {
        "colab": {
          "base_uri": "https://localhost:8080/"
        },
        "id": "u_hub6t7GQms",
        "outputId": "3e84e6fa-4c97-4e5e-c422-09674d7c6c78"
      },
      "execution_count": null,
      "outputs": [
        {
          "output_type": "stream",
          "name": "stdout",
          "text": [
            "Completed Test Set Feature Extraction...\n"
          ]
        }
      ]
    },
    {
      "cell_type": "code",
      "source": [
        "#Training and testing model\n",
        "forest_opt= RandomForestClassifier(n_estimators=1000, max_features='sqrt', criterion = 'entropy',max_depth=5,ccp_alpha=0.001 ,class_weight='balanced')\n",
        "forest_opt.fit(X_train_full, y_train_full)\n",
        "\n",
        "Y_pred_train = forest_opt.predict(X_train_full)\n",
        "train_accuracy = metrics.balanced_accuracy_score(y_train_full, Y_pred_train)\n",
        "Y_pred=forest_opt.predict(X_test)\n",
        "val_accuracy = metrics.balanced_accuracy_score(y_test, Y_pred)\n",
        "F2_score = metrics.fbeta_score(y_test, Y_pred, beta=2)\n",
        "print(\"Train balanced Accuracy {:.4f} \".format(train_accuracy))\n",
        "print(\"Validation balanced Accuracy {:.4f} \".format(val_accuracy))\n",
        "print(\"Validation F2 score {:.4f} \".format(F2_score))\n",
        "confidence_matrix= metrics.ConfusionMatrixDisplay.from_predictions(y_test, Y_pred, normalize='true', cmap='Blues', colorbar=False)\n",
        "plt.title('RF Threshold')\n",
        "plt.show()"
      ],
      "metadata": {
        "colab": {
          "base_uri": "https://localhost:8080/",
          "height": 106
        },
        "id": "EDmko0F0HYKH",
        "outputId": "7fdae8b3-c431-4046-9c4b-f7a24d001a58"
      },
      "execution_count": null,
      "outputs": [
        {
          "output_type": "stream",
          "name": "stdout",
          "text": [
            "Train balanced Accuracy 0.8430 \n",
            "Validation balanced Accuracy 0.7760 \n",
            "Validation F2 score 0.5830 \n"
          ]
        },
        {
          "output_type": "display_data",
          "data": {
            "text/plain": [
              "<Figure size 640x480 with 1 Axes>"
            ],
            "image/png": "[encoded data removed]"
          },
          "metadata": {}
        }
      ]
    }
  ]
}
