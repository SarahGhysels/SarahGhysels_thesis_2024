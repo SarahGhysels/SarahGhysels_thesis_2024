{
  "cells": [
    {
      "cell_type": "markdown",
      "metadata": {
        "id": "view-in-github",
        "colab_type": "text"
      },
      "source": [
        "<a href=\"https://colab.research.google.com/github/SarahGhysels/SarahGhysels_thesis_2024/blob/Thesis/ThesisSarahGhysels_RF_Regression.ipynb\" target=\"_parent\"><img src=\"https://colab.research.google.com/assets/colab-badge.svg\" alt=\"Open In Colab\"/></a>"
      ]
    },
    {
      "cell_type": "markdown",
      "metadata": {
        "id": "n-ArgjsumKgq"
      },
      "source": [
        "#Random forest model"
      ]
    },
    {
      "cell_type": "markdown",
      "metadata": {
        "id": "iVGlVjR_mNw_"
      },
      "source": [
        "## Installing necessary functions"
      ]
    },
    {
      "cell_type": "code",
      "execution_count": null,
      "metadata": {
        "id": "MoSeukxO98qh"
      },
      "outputs": [],
      "source": [
        "%pip install mahotas\n",
        "%pip install Augmentor\n",
        "%pip install split-folders tqdm\n",
        "%pip uninstall -y numpy #these 4 lines were added because of an error with loading the LabelEncoder\n",
        "%pip uninstall -y setuptools\n",
        "%pip uninstall -y scikit-learn\n",
        "%pip install numpy\n",
        "%pip install scikit-learn #need newest updat of sklearn for certain evaluation metrics\n",
        "%pip install setuptools\n",
        "#don't forget to click restart runtime here!"
      ]
    },
    {
      "cell_type": "code",
      "execution_count": null,
      "metadata": {
        "id": "r5Huzgzq-SPp"
      },
      "outputs": [],
      "source": [
        "import itertools\n",
        "import numpy as np\n",
        "import mahotas\n",
        "import cv2\n",
        "import os\n",
        "import matplotlib.pyplot as plt\n",
        "import Augmentor\n",
        "import pandas as pd\n",
        "import random\n",
        "import math\n",
        "from sklearn.model_selection import train_test_split, cross_val_score\n",
        "from sklearn.ensemble import RandomForestRegressor\n",
        "from google.colab import files\n",
        "import shutil\n",
        "from sklearn.model_selection import GridSearchCV\n",
        "import re\n",
        "import splitfolders\n",
        "from sklearn import metrics\n",
        "from math import copysign\n",
        "from sklearn.feature_selection import SelectFromModel\n",
        "import seaborn as sns"
      ]
    },
    {
      "cell_type": "code",
      "execution_count": null,
      "metadata": {
        "colab": {
          "base_uri": "https://localhost:8080/"
        },
        "id": "mJjQf1l_Aerd",
        "outputId": "916f468d-b348-4294-fcbe-64dbc459d0f4"
      },
      "outputs": [
        {
          "output_type": "stream",
          "name": "stdout",
          "text": [
            "Mounted at /content/drive\n"
          ]
        }
      ],
      "source": [
        "from google.colab import drive\n",
        "drive.mount('/content/drive',force_remount=True)"
      ]
    },
    {
      "cell_type": "markdown",
      "metadata": {
        "id": "mc96nFgMmTmn"
      },
      "source": [
        "## Creating functions for later use"
      ]
    },
    {
      "cell_type": "markdown",
      "metadata": {
        "id": "762KptAZ66UQ"
      },
      "source": [
        "### Features extraction"
      ]
    },
    {
      "cell_type": "code",
      "execution_count": null,
      "metadata": {
        "id": "62npxKZ1EGx-"
      },
      "outputs": [],
      "source": [
        "# FUNCTION TO CALCULATE LEARNABLE FEATURES IN IMAGES\n",
        "\n",
        "\n",
        "# features description -1:  Hu Moments\n",
        "def fd_hu_moments(image):\n",
        "    #thresholding with geen pixel mask\n",
        "    blue, green, red = cv2.split(image)\n",
        "    basic=(blue<65) & (green>80)\n",
        "    dark= (blue<40) & (green>35) & (red <45)\n",
        "    lightmedium= (blue>50) & (blue<100) &(green>110) & (red >70)& (red <130)\n",
        "    lightvery = (blue>50) & (blue<140) &(green>150) & (red >80)& (red <160)\n",
        "    newimg=basic+dark+lightvery+lightmedium\n",
        "    thres = np.multiply(newimg, 1, dtype='uint8' )\n",
        "    #Hu moments\n",
        "    feature = cv2.HuMoments(cv2.moments(thres)).flatten()\n",
        "    for i in range(0,7):\n",
        "      if feature[i] !=0:\n",
        "        feature[i] = -1* copysign(1.0, feature[i]) * np.log10(abs(feature[i]))\n",
        "    return feature\n",
        "\n",
        "# feature-descriptor -2: Haralick Texture\n",
        "def fd_haralick(image):\n",
        "    # convert the image to grayscale\n",
        "    gray = cv2.cvtColor(image,cv2.COLOR_BGR2GRAY)\n",
        "    # Compute the haralick texture feature vector\n",
        "    haralick = mahotas.features.haralick(gray).mean(axis=0)\n",
        "    return haralick\n",
        "\n",
        "# feature-description -3: Color Histogram\n",
        "def fd_histogram(image, mask=None):\n",
        "    image = cv2.cvtColor(image, cv2.COLOR_BGR2HSV)\n",
        "    #COMPUTE THE COLOR HISTOGRAM\n",
        "    hist  = cv2.calcHist([image],[0,1,2],None,[8,8,8], [0, 180, 0, 256, 0, 256])\n",
        "    # normalize the histogram\n",
        "    cv2.normalize(hist,hist)\n",
        "    # return the histogram\n",
        "    return hist.flatten()\n",
        "\n",
        "#feature-description -4: sum green pixels as feature\n",
        "def fd_greenpixels(image):\n",
        "  #First green counter\n",
        "  blue, green, red = cv2.split(image)\n",
        "  basic=(blue<65) & (green>80)\n",
        "  dark= (blue<40) & (green>35) & (red <45)\n",
        "  lightmedium= (blue>50) & (blue<100) &(green>110) & (red >70)& (red <130)\n",
        "  lightvery = (blue>50) & (blue<140) &(green>150) & (red >80)& (red <160)\n",
        "  newimg=basic+dark+lightvery+lightmedium\n",
        "  sumpixels=newimg.sum()\n",
        "  #Second green counter\n",
        "  newimg2 = (green>(blue+20))&(green>(red+15))\n",
        "  sumpixels2 = newimg2.sum()\n",
        "  return sumpixels, sumpixels2\n",
        "\n",
        "#feature-description -5: sum green pixels as feature\n",
        "def fd_vegindices(image): #these come from https://isprs-archives.copernicus.org/articles/XLII-3/1215/2018/isprs-archives-XLII-3-1215-2018.pdf\n",
        "#   this paper also uses these: https://www.sciencedirect.com/science/article/pii/S1470160X16301406?casa_token=8wIIrswmqc8AAAAA:tr0iQCh7kW4ZjbWMLckAAPwQpYsF2GFS3ERnglxFSrYd8C8-WVuREf83BPYjv391ZAlpsz9mPFY\n",
        "  blue, green, red = cv2.split(image)\n",
        "  RGBVI = (np.multiply(green, green, dtype=np.uint32) - np.multiply(red, blue, dtype=np.uint32))/(np.multiply(green, green, dtype=np.uint32)+np.multiply(red, blue,dtype=np.uint32 ))\n",
        "  GLI = ((np.multiply(green,2,dtype=np.uint16 ) - red - blue)/(np.multiply(green,2,dtype=np.uint16 ) +red+blue))\n",
        "  VARI = ((green-red)/(np.add(red, green, dtype = np.uint16)-blue))\n",
        "  NGRDI = ((green-red)/(np.add(red, green, dtype = np.uint16)))\n",
        "  combo = [np.mean(RGBVI), np.mean(GLI), np.mean(VARI), np.mean(NGRDI)]\n",
        "  return combo"
      ]
    },
    {
      "cell_type": "markdown",
      "metadata": {
        "id": "48I_AC2oaXy6"
      },
      "source": [
        "### Creating directory"
      ]
    },
    {
      "cell_type": "code",
      "execution_count": null,
      "metadata": {
        "id": "Pvg70fYpMJsK"
      },
      "outputs": [],
      "source": [
        "def makedir(path):\n",
        "    '''\n",
        "    if path does not exist in the file system, create it\n",
        "    '''\n",
        "    if not os.path.exists(path):\n",
        "          os.makedirs(path)"
      ]
    },
    {
      "cell_type": "markdown",
      "metadata": {
        "id": "aJ7nDsVbabKx"
      },
      "source": [
        "### Oversampling"
      ]
    },
    {
      "cell_type": "code",
      "execution_count": null,
      "metadata": {
        "id": "Ip9J8IoiHErD"
      },
      "outputs": [],
      "source": [
        "#Function to generate extra data by oversampling\n",
        "def oversample_func(split_directory, folders, target_folders, requiredNbrOfImages):\n",
        "    for i in range(len(folders)):\n",
        "        path, dirs, files = next(os.walk(folders[i]))\n",
        "        nbrOfImages = len(files)\n",
        "        nbrOfImagesNeeded = requiredNbrOfImages - nbrOfImages\n",
        "        seed = random.randint(0, 1000)\n",
        "\n",
        "        if nbrOfImagesNeeded > 0:\n",
        "            tfd = target_folders[i]\n",
        "            print (\"saving in \" + tfd)\n",
        "            p = Augmentor.Pipeline(source_directory=folders[i], output_directory=tfd)\n",
        "            p.set_seed(seed)\n",
        "            p.flip_left_right(probability=0.5)\n",
        "            p.rotate(probability=0.7, max_left_rotation=15, max_right_rotation=15)\n",
        "            p.flip_left_right(probability=0.5)\n",
        "            p.sample(nbrOfImagesNeeded, multi_threaded=False)\n"
      ]
    },
    {
      "cell_type": "markdown",
      "metadata": {
        "id": "GpRcL59Qnvxf"
      },
      "source": [
        "## Data preprocessing"
      ]
    },
    {
      "cell_type": "markdown",
      "metadata": {
        "id": "N7r1M8NoSbSa"
      },
      "source": [
        "### Setting directories"
      ]
    },
    {
      "cell_type": "code",
      "execution_count": null,
      "metadata": {
        "id": "aM88-wmt-c2r"
      },
      "outputs": [],
      "source": [
        "main_path='/content/drive/MyDrive/Sarah_Ghysels_Thesis/DatamodelNewClips/Train'#NewClips\n",
        "split_path= '/content/drive/MyDrive/Sarah_Ghysels_Thesis/DatamodelNewClips/Split'\n",
        "train_path = split_path + \"/train\"\n",
        "val_path = split_path + \"/val\"\n",
        "oversample_path=\"/content/drive/MyDrive/Sarah_Ghysels_Thesis/Datamodel/OversampleRegression\"\n",
        "output_path='/content/drive/MyDrive/Sarah_Ghysels_Thesis/OutputRF'"
      ]
    },
    {
      "cell_type": "markdown",
      "metadata": {
        "id": "qdYMoFWVafZQ"
      },
      "source": [
        "### Reading in data"
      ]
    },
    {
      "cell_type": "code",
      "execution_count": null,
      "metadata": {
        "id": "_xy71pQjmM0m"
      },
      "outputs": [],
      "source": [
        "#reading in the y data\n",
        "Dataset_multigras= pd.read_csv(\"/content/drive/MyDrive/Sarah_Ghysels_Thesis/Datamodel/Multigras_data.csv\", sep=';')\n",
        "DMY = Dataset_multigras['DMY (kg/ha)']\n",
        "DMY_int=[]\n",
        "for i in range(0,len(DMY)):\n",
        "   try: DMY_int.append(int(DMY[i]))\n",
        "   except ValueError: DMY_int.append(-544)"
      ]
    },
    {
      "cell_type": "markdown",
      "metadata": {
        "id": "Ui-WhkdSakOo"
      },
      "source": [
        "### Creating paths and oversampling"
      ]
    },
    {
      "cell_type": "code",
      "execution_count": null,
      "metadata": {
        "colab": {
          "base_uri": "https://localhost:8080/"
        },
        "id": "5GB_SMMOi_mb",
        "outputId": "8b1ec74e-f89b-4944-fe51-833b9b547e75"
      },
      "outputs": [
        {
          "output_type": "stream",
          "name": "stderr",
          "text": [
            "Copying files: 3772 files [03:20, 18.81 files/s]\n"
          ]
        }
      ],
      "source": [
        "#setting up model directory\n",
        "#split folder verwijderen\n",
        "!rm -rf '{split_path}'\n",
        "#regression folder verwijderen\n",
        "!rm -rf '{oversample_path}'\n",
        "#output folder verwijderen en opnieuw aanmaken\n",
        "!rm -rf '{output_path}'\n",
        "makedir(output_path)\n",
        "#Nieuwe split doen op de folders\n",
        "splitfolders.ratio(main_path, output=split_path, seed=42, ratio=(0.8, 0.2), group_prefix=None, move=False)"
      ]
    },
    {
      "cell_type": "code",
      "execution_count": null,
      "metadata": {
        "id": "v_rK0dmTkX-Q",
        "colab": {
          "base_uri": "https://localhost:8080/"
        },
        "outputId": "0ccca606-f112-483e-bc2b-e048f8f78c65"
      },
      "outputs": [
        {
          "output_type": "stream",
          "name": "stdout",
          "text": [
            "saving in /content/drive/MyDrive/Sarah_Ghysels_Thesis/DatamodelNewClips/Split/train/Keep\n",
            "Initialised with 297 image(s) found.\n",
            "Output directory set to /content/drive/MyDrive/Sarah_Ghysels_Thesis/DatamodelNewClips/Split/train/Keep."
          ]
        },
        {
          "output_type": "stream",
          "name": "stderr",
          "text": [
            "Processing BLOK1R20P1.png: 100%|██████████| 1063/1063 [00:24<00:00, 42.90 Samples/s]\n"
          ]
        }
      ],
      "source": [
        "# #oversample\n",
        "# target_dir = train_path\n",
        "# dir=target_dir\n",
        "# makedir(target_dir)\n",
        "# folders = [os.path.join(dir, folder) for folder in next(os.walk(dir))[1]]\n",
        "# target_folders = [os.path.join(target_dir, folder) for folder in next(os.walk(dir))[1]]\n",
        "# oversample_func(split_path,  folders, target_folders, 1360)"
      ]
    },
    {
      "cell_type": "markdown",
      "metadata": {
        "id": "GqGAwlpqaqux"
      },
      "source": [
        "### Feature extracting and combining with DM values"
      ]
    },
    {
      "cell_type": "code",
      "execution_count": null,
      "metadata": {
        "colab": {
          "base_uri": "https://localhost:8080/"
        },
        "id": "Bes1qtYErjrV",
        "outputId": "ebd1ecc6-5b40-4e47-af64-6afe837698ce"
      },
      "outputs": [
        {
          "output_type": "stream",
          "name": "stdout",
          "text": [
            "Completed Training Set Feature Extraction...\n",
            "Completed Validation Set Feature Extraction...\n"
          ]
        }
      ],
      "source": [
        "#creating datasets\n",
        "# read the training data labels\n",
        "train_labels = os.listdir(train_path)\n",
        "# sort the training labesl\n",
        "train_labels.sort()\n",
        "# empty list to hold feature vectors and labels\n",
        "features_train = []\n",
        "y_values_train = []\n",
        "\n",
        "# loop over the training data sub folder\n",
        "for training_name in train_labels:\n",
        "  # join the training data path and each training folder\n",
        "  dir = os.path.join(train_path, training_name)\n",
        "\n",
        "  # loop over the images in each sub-folder\n",
        "\n",
        "  for file in os.listdir(dir):\n",
        "    #get y value that corresponds with this image\n",
        "    RowCol_string=re.findall(r'BLOK\\d+R\\d+P\\d+',file)\n",
        "    BlokRowCol=re.findall(r'\\d+', RowCol_string[0])\n",
        "    Blok=int(BlokRowCol[0])\n",
        "    Row=int(BlokRowCol[1])\n",
        "    Col=int(BlokRowCol[2])\n",
        "    index=((Blok-1)*44*32+(Row-1)*32 + Col)-1\n",
        "    try:y= int(DMY[index])\n",
        "    except ValueError:y=-1\n",
        "\n",
        "    file = dir + \"/\" + os.fsdecode(file)\n",
        "    # read the image and compute features\n",
        "    image = cv2.imread(file)\n",
        "\n",
        "    image = cv2.resize(image, tuple((51, 51)))\n",
        "    fv_hu_moments = fd_hu_moments(image)\n",
        "    fv_haralick   = fd_haralick(image)\n",
        "    fv_histogram  = fd_histogram(image)\n",
        "    fv_greenpixels= fd_greenpixels(image)\n",
        "    fv_vegindices = fd_vegindices(image)\n",
        "\n",
        "\n",
        "    # Concatenate global features\n",
        "    global_feature = np.hstack([fv_histogram,fv_haralick, fv_hu_moments,fv_greenpixels, fv_vegindices])\n",
        "\n",
        "    # update the list of labels and feature vectors\n",
        "    if (y>0):\n",
        "      y_values_train.append(y)\n",
        "      features_train.append(global_feature)\n",
        "\n",
        "print(\"Completed Training Set Feature Extraction...\")\n",
        "\n",
        "# get the validation data labels\n",
        "val_labels = os.listdir(val_path)\n",
        "# sort the validation labels\n",
        "val_labels.sort()\n",
        "\n",
        "# empty list to hold feature vectors and labels\n",
        "features_val = []\n",
        "y_values_val = []\n",
        "# loop over the validation data sub folder\n",
        "\n",
        "for val_name in val_labels:\n",
        "  # join the validation data path and each validation folder\n",
        "  dir = os.path.join(val_path, val_name)\n",
        "\n",
        "  # loop over the images in each sub-folder\n",
        "\n",
        "  for file in os.listdir(dir):\n",
        "      RowCol_string=re.findall(r'BLOK\\d+R\\d+P\\d+',file)\n",
        "      BlokRowCol=re.findall(r'\\d+', RowCol_string[0])\n",
        "      Blok=int(BlokRowCol[0])\n",
        "      Row=int(BlokRowCol[1])\n",
        "      Col=int(BlokRowCol[2])\n",
        "      index=((Blok-1)*44*32+(Row-1)*32 + Col)-1\n",
        "      try:y= int(DMY[index])\n",
        "      except ValueError:y=-1\n",
        "      file = dir + \"/\" + os.fsdecode(file)\n",
        "\n",
        "      # read the image and compute features\n",
        "      image = cv2.imread(file)\n",
        "\n",
        "      if image is not None:\n",
        "          image = cv2.resize(image, tuple((51, 51)))\n",
        "          fv_hu_moments = fd_hu_moments(image)\n",
        "          fv_haralick   = fd_haralick(image)\n",
        "          fv_histogram  = fd_histogram(image)\n",
        "          fv_greenpixels= fd_greenpixels(image)\n",
        "          fv_vegindices = fd_vegindices(image)\n",
        "\n",
        "      # Concatenate global features\n",
        "      global_val_feature = np.hstack([fv_histogram,fv_haralick, fv_hu_moments,fv_greenpixels, fv_vegindices])\n",
        "\n",
        "      # update the list of labels and feature vectors\n",
        "      if (y>0):\n",
        "        y_values_val.append(y)\n",
        "        features_val.append(global_val_feature)\n",
        "\n",
        "\n",
        "print(\"Completed Validation Set Feature Extraction...\")\n",
        "\n",
        "#creating datasets\n",
        "#creating X datasets\n",
        "X_train=np.array(features_train)\n",
        "X_val=np.array(features_val)\n",
        "\n",
        "#creating y datasets\n",
        "y_train =y_values_train\n",
        "y_val = y_values_val"
      ]
    },
    {
      "cell_type": "markdown",
      "metadata": {
        "id": "eLfy9XQ6a1Oz"
      },
      "source": [
        "## Creating and tuning the model"
      ]
    },
    {
      "cell_type": "code",
      "execution_count": null,
      "metadata": {
        "colab": {
          "base_uri": "https://localhost:8080/"
        },
        "id": "bnQ-CcZgmv8j",
        "outputId": "cc5be74f-8629-4cb3-bf24-83b08820c0de"
      },
      "outputs": [
        {
          "output_type": "stream",
          "name": "stdout",
          "text": [
            "The best parameters are: {'ccp_alpha': 0.005623413251903491, 'max_depth': 7}\n"
          ]
        }
      ],
      "source": [
        "# #creating the model and hyperparameter tuning\n",
        "# forest  = RandomForestRegressor(n_estimators=250, max_features=1/3) #max features is the amount of features for each split\n",
        "# parameter_grid_forest = {\n",
        "#  #'absolute_error', 'friedman_mse', 'poisson'\n",
        "#   \"max_depth\": [3,5,7],\n",
        "#   \"ccp_alpha\": np.logspace(-3, 0, 5)\n",
        "#   }\n",
        "# grid_forest = GridSearchCV(forest, parameter_grid_forest)\n",
        "# grid_forest.fit(X_train,y_train)\n",
        "# print('The best parameters are: {}'.format(grid_forest.best_params_))"
      ]
    },
    {
      "cell_type": "code",
      "execution_count": null,
      "metadata": {
        "colab": {
          "base_uri": "https://localhost:8080/"
        },
        "id": "rmTz3iu_yvLT",
        "outputId": "4db490b2-7956-47ae-d760-a47dc8815259"
      },
      "outputs": [
        {
          "output_type": "stream",
          "name": "stdout",
          "text": [
            "0.9450042129354802\n",
            "0.6226004836133051\n",
            "1337.862628787744\n"
          ]
        }
      ],
      "source": [
        "#testing the optimized model\n",
        "forest_opt= RandomForestRegressor(n_estimators=1000, max_features = 1/3) #, max_features = 1/3\n",
        "forest_opt.fit(X_train, y_train)\n",
        "print(forest_opt.score(X_train, y_train))\n",
        "print(forest_opt.score(X_val,y_val))\n",
        "Y_pred=forest_opt.predict(X_val)\n",
        "print(metrics.root_mean_squared_error(y_val, Y_pred))"
      ]
    },
    {
      "cell_type": "markdown",
      "source": [
        "## Feature selection"
      ],
      "metadata": {
        "id": "R78JM7qKKq31"
      }
    },
    {
      "cell_type": "code",
      "execution_count": null,
      "metadata": {
        "colab": {
          "base_uri": "https://localhost:8080/"
        },
        "id": "TIQlF8rnBD3u",
        "outputId": "775ef18b-2882-4af7-a56f-af893d08aeb6"
      },
      "outputs": [
        {
          "output_type": "stream",
          "name": "stdout",
          "text": [
            "Index([  2,   3,   4,   9,  10,  11,  65,  66,  67,  68,  73,  74,  75,  76,\n",
            "        77,  81,  82,  83,  84,  90,  91, 129, 130, 131, 132, 137, 138, 139,\n",
            "       140, 141, 145, 146, 147, 148, 149, 153, 154, 155, 156, 161, 162, 163,\n",
            "       164, 169, 170, 171, 177, 178, 179, 185, 186, 204, 512, 513, 514, 515,\n",
            "       516, 517, 518, 519, 520, 521, 522, 523, 524, 525, 526, 527, 528, 529,\n",
            "       530, 531, 532, 533, 534, 535, 536, 537],\n",
            "      dtype='int64')\n",
            "78\n",
            "R2 train 0.9448 \n",
            "R2 val 0.6301 \n",
            "RMSE 1309.8338\n"
          ]
        }
      ],
      "source": [
        "#feature selection\n",
        "#selection with mean\n",
        "sel = SelectFromModel(RandomForestRegressor(n_estimators = 1000, max_features = 1/3 ), threshold='mean') #, max_features = 1/3\n",
        "sel.fit(X_train, y_train)\n",
        "X_train_pd = pd.DataFrame(X_train)\n",
        "selected_feat= X_train_pd.columns[(sel.get_support())]\n",
        "print(selected_feat)\n",
        "print(len(selected_feat))\n",
        "\n",
        "\n",
        "X_train_selected = sel.transform(X_train)\n",
        "X_val_selected = sel.transform(X_val)\n",
        "forest_opt.fit(X_train_selected, y_train)\n",
        "print(\"R2 train {:.4f} \".format(forest_opt.score(X_train_selected, y_train)))\n",
        "print(\"R2 val {:.4f} \".format(forest_opt.score(X_val_selected,y_val)))\n",
        "Y_pred_val=forest_opt.predict(X_val_selected)\n",
        "print(\"RMSE {:.4f}\".format(metrics.root_mean_squared_error(y_val, Y_pred)))"
      ]
    },
    {
      "cell_type": "code",
      "source": [
        "#feature selection\n",
        "#selection with 0.01\n",
        "sel = SelectFromModel(RandomForestRegressor(n_estimators = 1000, max_features = 1/3 ), threshold=0.01) #, max_features = 1/3\n",
        "sel.fit(X_train, y_train)\n",
        "X_train_pd = pd.DataFrame(X_train)\n",
        "selected_feat= X_train_pd.columns[(sel.get_support())]\n",
        "print(selected_feat)\n",
        "print(len(selected_feat))\n",
        "\n",
        "\n",
        "X_train_selected = sel.transform(X_train)\n",
        "X_val_selected = sel.transform(X_val)\n",
        "forest_opt.fit(X_train_selected, y_train)\n",
        "print(\"R2 train {:.4f} \".format(forest_opt.score(X_train_selected, y_train)))\n",
        "print(\"R2 val {:.4f} \".format(forest_opt.score(X_val_selected,y_val)))\n",
        "Y_pred_val=forest_opt.predict(X_val_selected)\n",
        "print(\"RMSE {:.4f}\".format(metrics.root_mean_squared_error(y_val, Y_pred)))"
      ],
      "metadata": {
        "colab": {
          "base_uri": "https://localhost:8080/"
        },
        "id": "btCLhneVL2w3",
        "outputId": "7f957d86-924f-413c-b8ef-739f296e0dc4"
      },
      "execution_count": null,
      "outputs": [
        {
          "output_type": "stream",
          "name": "stdout",
          "text": [
            "Index([67, 169, 170, 177, 178, 514, 523, 524, 532, 533], dtype='int64')\n",
            "10\n",
            "R2 train 0.9424 \n",
            "R2 val 0.6133 \n",
            "RMSE 1309.8338\n"
          ]
        }
      ]
    },
    {
      "cell_type": "code",
      "source": [
        "# Representing feature importance\n",
        "#names\n",
        "histo_names = [f\"Colour Histogram {i}\" for i in range(1,513)]\n",
        "haralick_names = [f\"Haralick Texture {i}\" for i in range(1,14)]\n",
        "Hu_names = [f\"Hu Moments {i}\" for i in range(1,8)]\n",
        "Greenpix_names = ['Green Pixels too strict', 'Green Pixels too lenient']\n",
        "Veg_names = ['RGBVI', 'GLI', 'VARI', 'NGRDI']\n",
        "feature_names = histo_names + haralick_names + Hu_names + Greenpix_names + Veg_names\n",
        "feature_names_pd = pd.DataFrame(data=feature_names)\n",
        "#importances\n",
        "forest_opt= RandomForestRegressor(n_estimators = 1000, max_features = 1/3)#, max_features = 1/3\n",
        "forest_opt.fit(X_train, y_train)\n",
        "importances = forest_opt.feature_importances_\n",
        "std = np.std([tree.feature_importances_ for tree in forest_opt.estimators_], axis=0)\n",
        "forest_importances = pd.Series(importances, index=feature_names)\n",
        "sorted_indices = forest_importances.argsort()[::-1]\n",
        "sorted_feature_names = [feature_names[i] for i in sorted_indices]\n",
        "sorted_importances = forest_importances[sorted_indices]\n",
        "Important_feat_names = sorted_feature_names[0:15]\n",
        "Important_feat_importance = sorted_importances[0:15]\n",
        "\n",
        "print(Important_feat_names)\n",
        "print(Important_feat_importance)\n",
        "\n",
        "sns.set(rc={'figure.figsize':(11.7,8.27)})\n",
        "sns.barplot(x=Important_feat_importance, y=Important_feat_names)\n",
        "plt.title('RF_regression_382')"
      ],
      "metadata": {
        "colab": {
          "base_uri": "https://localhost:8080/",
          "height": 1000
        },
        "id": "RThH9hE3MAvm",
        "outputId": "9a1fcead-ad9b-4ade-e25e-6cefe3cb3b9c"
      },
      "execution_count": null,
      "outputs": [
        {
          "output_type": "stream",
          "name": "stdout",
          "text": [
            "['Green Pixels too lenient', 'Green Pixels too strict', 'Colour Histogram 68', 'Hu Moments 4', 'Colour Histogram 4', 'Hu Moments 1', 'Colour Histogram 178', 'VARI', 'Haralick Texture 12', 'Haralick Texture 13', 'Haralick Texture 3', 'Colour Histogram 179', 'RGBVI', 'Colour Histogram 171', 'GLI']\n",
            "Green Pixels too lenient    0.202931\n",
            "Green Pixels too strict     0.138143\n",
            "Colour Histogram 68         0.053319\n",
            "Hu Moments 4                0.035307\n",
            "Colour Histogram 4          0.031592\n",
            "Hu Moments 1                0.030877\n",
            "Colour Histogram 178        0.019489\n",
            "VARI                        0.018030\n",
            "Haralick Texture 12         0.017221\n",
            "Haralick Texture 13         0.015531\n",
            "Haralick Texture 3          0.014859\n",
            "Colour Histogram 179        0.013771\n",
            "RGBVI                       0.012505\n",
            "Colour Histogram 171        0.011758\n",
            "GLI                         0.011370\n",
            "dtype: float64\n"
          ]
        },
        {
          "output_type": "execute_result",
          "data": {
            "text/plain": [
              "Text(0.5, 1.0, 'RF_regression_382')"
            ]
          },
          "metadata": {},
          "execution_count": 17
        },
        {
          "output_type": "display_data",
          "data": {
            "text/plain": [
              "<Figure size 1170x827 with 1 Axes>"
            ],
            "image/png": "[encoded data removed]"
          },
          "metadata": {}
        }
      ]
    },
    {
      "cell_type": "markdown",
      "source": [
        "## Testing optimal model"
      ],
      "metadata": {
        "id": "zVlVDBcvcIX7"
      }
    },
    {
      "cell_type": "code",
      "source": [
        "#importing test set\n",
        "test_path = '/content/drive/MyDrive/Sarah_Ghysels_Thesis/DatamodelNewClips/Test'"
      ],
      "metadata": {
        "id": "lEiXpRAYcLCr"
      },
      "execution_count": null,
      "outputs": []
    },
    {
      "cell_type": "code",
      "source": [
        "#Extracting features and combining with DMY values test set\n",
        "#creating datasets\n",
        "# read the test data labels\n",
        "test_labels = os.listdir(test_path)\n",
        "# sort the test labesl\n",
        "test_labels.sort()\n",
        "# empty list to hold feature vectors and labels\n",
        "features_test = []\n",
        "y_values_test = []\n",
        "\n",
        "# loop over the test data sub folder\n",
        "for test_name in test_labels:\n",
        "  # join the test data path and each species test folder\n",
        "  dir = os.path.join(test_path, test_name)\n",
        "\n",
        "  # loop over the images in each sub-folder\n",
        "\n",
        "  for file in os.listdir(dir):\n",
        "    #get y value that corresponds with this image\n",
        "    RowCol_string=re.findall(r'BLOK\\d+R\\d+P\\d+',file)\n",
        "    BlokRowCol=re.findall(r'\\d+', RowCol_string[0])\n",
        "    Blok=int(BlokRowCol[0])\n",
        "    Row=int(BlokRowCol[1])\n",
        "    Col=int(BlokRowCol[2])\n",
        "    index=((Blok-1)*44*32+(Row-1)*32 + Col)-1\n",
        "    try:y= int(DMY[index])\n",
        "    except ValueError:y=-1\n",
        "\n",
        "    file = dir + \"/\" + os.fsdecode(file)\n",
        "    # read the image and compute features\n",
        "    image = cv2.imread(file)\n",
        "\n",
        "    image = cv2.resize(image,tuple((51, 51)))\n",
        "    fv_hu_moments = fd_hu_moments(image)\n",
        "    fv_haralick   = fd_haralick(image)\n",
        "    fv_histogram  = fd_histogram(image)\n",
        "    fv_greenpixels= fd_greenpixels(image)\n",
        "    fv_vegindices = fd_vegindices(image)\n",
        "\n",
        "    # Concatenate global features\n",
        "    global_feature = np.hstack([fv_histogram,fv_haralick, fv_hu_moments,fv_greenpixels, fv_vegindices])\n",
        "\n",
        "    # update the list of labels and feature vectors\n",
        "    if (y>0):\n",
        "      y_values_test.append(y)\n",
        "      features_test.append(global_feature)\n",
        "\n",
        "print(\"Completed Test Set Feature Extraction...\")\n",
        "\n",
        "#creating datasets\n",
        "X_test=np.array(features_test)\n",
        "y_test = y_values_test\n",
        "\n",
        "#Combining train and validation set to use both as a train set for the final model\n",
        "X_train_full = np.vstack((X_train,X_val))\n",
        "y_train_full = np.hstack((y_train, y_val))"
      ],
      "metadata": {
        "colab": {
          "base_uri": "https://localhost:8080/"
        },
        "id": "HXfPY5-RcMsl",
        "outputId": "002c854f-9423-4dc8-c0bb-77bb7dad83ce"
      },
      "execution_count": null,
      "outputs": [
        {
          "output_type": "stream",
          "name": "stdout",
          "text": [
            "Completed Test Set Feature Extraction...\n"
          ]
        }
      ]
    },
    {
      "cell_type": "code",
      "source": [
        "#Training and testing model\n",
        "forest_opt= RandomForestRegressor(n_estimators=1000, max_features = 1/3)\n",
        "forest_opt.fit(X_train_full, y_train_full)\n",
        "\n",
        "print(\"Train R2 {:.4f} \".format(forest_opt.score(X_train_full, y_train_full)))\n",
        "print(\"Test R2 {:.4f} \".format(forest_opt.score(X_test,y_test)))\n",
        "Y_pred=forest_opt.predict(X_test)\n",
        "print(\"Test RMSE {:.4f} \".format(metrics.root_mean_squared_error(y_test, Y_pred)))\n",
        "Y_pred=forest_opt.predict(X_test)\n",
        "plt.scatter(y_test, Y_pred,s = 5)\n",
        "plt.plot(y_test, y_test)\n",
        "plt.xlabel('True DMY')\n",
        "plt.ylabel('Predicted DMY')\n",
        "plt.title('RF Regression')\n",
        "plt.show()"
      ],
      "metadata": {
        "colab": {
          "base_uri": "https://localhost:8080/",
          "height": 561
        },
        "id": "JMxos-v5cRR9",
        "outputId": "6eb1a6fa-e649-4fe7-dbfe-1901342fc2d4"
      },
      "execution_count": null,
      "outputs": [
        {
          "output_type": "stream",
          "name": "stdout",
          "text": [
            "Train R2 0.9464 \n",
            "Test R2 0.5930 \n",
            "Test RMSE 1452.1799 \n"
          ]
        },
        {
          "output_type": "stream",
          "name": "stderr",
          "text": [
            "WARNING:matplotlib.legend:No artists with labels found to put in legend.  Note that artists whose label start with an underscore are ignored when legend() is called with no argument.\n"
          ]
        },
        {
          "output_type": "display_data",
          "data": {
            "text/plain": [
              "<Figure size 640x480 with 1 Axes>"
            ],
            "image/png": "[encoded data removed]"
          },
          "metadata": {}
        }
      ]
    }
  ],
  "metadata": {
    "colab": {
      "provenance": [],
      "toc_visible": true,
      "include_colab_link": true
    },
    "kernelspec": {
      "display_name": "Python 3",
      "name": "python3"
    },
    "language_info": {
      "name": "python"
    }
  },
  "nbformat": 4,
  "nbformat_minor": 0
}
