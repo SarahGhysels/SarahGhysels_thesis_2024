{
  "nbformat": 4,
  "nbformat_minor": 0,
  "metadata": {
    "colab": {
      "provenance": [],
      "toc_visible": true,
      "authorship_tag": "ABX9TyNmiVZbCifYQ6qmV+RSlt6R",
      "include_colab_link": true
    },
    "kernelspec": {
      "name": "python3",
      "display_name": "Python 3"
    },
    "language_info": {
      "name": "python"
    }
  },
  "cells": [
    {
      "cell_type": "markdown",
      "metadata": {
        "id": "view-in-github",
        "colab_type": "text"
      },
      "source": [
        "<a href=\"https://colab.research.google.com/github/SarahGhysels/SarahGhysels_thesis_2024/blob/Data-acquisition/ThesisSarahGhysels_Cutting_images.ipynb\" target=\"_parent\"><img src=\"https://colab.research.google.com/assets/colab-badge.svg\" alt=\"Open In Colab\"/></a>"
      ]
    },
    {
      "cell_type": "markdown",
      "source": [
        "#Clipping images"
      ],
      "metadata": {
        "id": "zBErMorRRxfo"
      }
    },
    {
      "cell_type": "markdown",
      "source": [
        "## Importing packages"
      ],
      "metadata": {
        "id": "ln0aBa9pR29X"
      }
    },
    {
      "cell_type": "code",
      "source": [
        "from PIL import Image\n",
        "import matplotlib.pyplot as plt"
      ],
      "metadata": {
        "id": "3LsiXAtv4atb"
      },
      "execution_count": null,
      "outputs": []
    },
    {
      "cell_type": "markdown",
      "source": [
        "## Writing function"
      ],
      "metadata": {
        "id": "95o8v41eR6O3"
      }
    },
    {
      "cell_type": "code",
      "source": [
        "def crop_square(image_path, x, y, size):\n",
        "    # Open the image\n",
        "    img = Image.open(image_path)\n",
        "\n",
        "    # Define the box coordinates for cropping\n",
        "    left = x\n",
        "    upper = y\n",
        "    right = left + size\n",
        "    lower = upper + size\n",
        "\n",
        "    # Crop the image using the coordinates\n",
        "    cropped_img = img.crop((left, upper, right, lower))\n",
        "\n",
        "    return cropped_img"
      ],
      "metadata": {
        "id": "nb7pQEOy4eSQ"
      },
      "execution_count": null,
      "outputs": []
    },
    {
      "cell_type": "markdown",
      "source": [
        "## Using function"
      ],
      "metadata": {
        "id": "w9SvxEEiR-Nd"
      }
    },
    {
      "cell_type": "markdown",
      "source": [
        "Need 1-44, 53-96, 105-148"
      ],
      "metadata": {
        "id": "SmdomoySBdM3"
      }
    },
    {
      "cell_type": "code",
      "execution_count": null,
      "metadata": {
        "colab": {
          "base_uri": "https://localhost:8080/",
          "height": 432
        },
        "id": "0_QTyefK3nAn",
        "outputId": "c50e890c-fb6f-4e3d-b13b-861db5015fd2"
      },
      "outputs": [
        {
          "output_type": "display_data",
          "data": {
            "text/plain": [
              "<Figure size 640x480 with 1 Axes>"
            ],
            "image/png": "[encoded data removed]"
          },
          "metadata": {}
        }
      ],
      "source": [
        "# Define coordinates\n",
        "x_coordinate = 42\n",
        "y_coordinate = 2593\n",
        "square_size = 51\n",
        "\n",
        "#Crop image at these coordinates\n",
        "cropped_image = crop_square('rotated-cropped-noparents.tiff', x_coordinate, y_coordinate, square_size)\n",
        "image=Image.open('rotated-cropped-noparents.tiff')\n",
        "\n",
        "# Save and display the cropped image\n",
        "plt.imshow(cropped_image)\n",
        "cropped_image.save('Block3R2P2.png')"
      ]
    }
  ]
}
